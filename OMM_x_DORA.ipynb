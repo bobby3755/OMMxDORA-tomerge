{
 "cells": [
  {
   "cell_type": "markdown",
   "id": "150688fe",
   "metadata": {},
   "source": [
    "## common troubleshooting solutions:\n",
    "\n",
    "1. make sure your file paths use these slashes / and end with a / \n",
    "\n",
    "3. are you in the righ file paths?\n",
    "4. is your info file the same name as your tif file?\n",
    "\n",
    "### NOTE: This is a 'cleaned' copy of the OMM_Analysis from the lab's github I made from running data from ONI using TIFF files. If you have something  else, this is not for you.   \n",
    "  \n",
    "    "
   ]
  },
  {
   "cell_type": "markdown",
   "id": "17d0e147",
   "metadata": {},
   "source": [
    "## OMM Analysis"
   ]
  },
  {
   "cell_type": "code",
   "execution_count": 1,
   "id": "534f7f3b",
   "metadata": {},
   "outputs": [],
   "source": [
    "import sys\n",
    "import os\n",
    "import pandas as pd\n",
    "\n",
    "sys.path.append(r'D:/Jerry/code/OMMxDORA-tomerge/sma/') #if you are not amanda, change to your sma file path (found in zipfile downloaded from github)\n",
    "from DisplayHist import disp_hist\n",
    "from ffpdax import ffp_dax\n",
    "from ffptif import ffp_tif\n",
    "import DORA\n",
    "\n",
    "analysisPath=r'D:/Jerry/DATA/localization_precision_dev_data/20230126_bases_forjerry/10hz_25laser-1_PC/pos_0/'\n",
    "\n",
    "xmlName='ORBIT_Analysis_Settings'\n",
    "\n",
    "analysisName='test'\n",
    "exp_title = \"Localization_Precision\"\n",
    "xmlFilename=analysisPath+xmlName\n",
    "filename=analysisPath+analysisName\n",
    "# ffp_tif(filename,xmlFilename)"
   ]
  },
  {
   "cell_type": "markdown",
   "id": "eb665ba6",
   "metadata": {},
   "source": [
    "# TRJ file to CSV"
   ]
  },
  {
   "cell_type": "code",
   "execution_count": null,
   "id": "77b7760b",
   "metadata": {},
   "outputs": [],
   "source": [
    "import os\n",
    "newpath = filename+'trcsv'\n",
    "if not os.path.exists(newpath):\n",
    "    os.makedirs(newpath)    #makes a new folder in with same name as filename but ending in trcsv\n",
    "    \n",
    "from tr2csv import tr_2csv\n",
    "tr_2csv(filename)           #Generates CSV file from .tr files      "
   ]
  },
  {
   "cell_type": "markdown",
   "id": "4be8d4a4",
   "metadata": {},
   "source": [
    "# 2D Histogram\n",
    "\n"
   ]
  },
  {
   "cell_type": "code",
   "execution_count": null,
   "id": "5fb6b420",
   "metadata": {
    "scrolled": true
   },
   "outputs": [],
   "source": [
    "import numpy as np\n",
    "\n",
    "histInfoName=filename+'trdir/histpar' # opens the infromation file\n",
    "histInfoFile = open(histInfoName+'.info','rb')\n",
    "histInfo=np.fromfile(histInfoFile,dtype='int32')\n",
    "histInfoFile.close()\n",
    "print(\"Number of peaks\")\n",
    "print(histInfo[3])\n",
    "histInfo[3]"
   ]
  },
  {
   "cell_type": "code",
   "execution_count": null,
   "id": "bc6b5fb5",
   "metadata": {
    "scrolled": true
   },
   "outputs": [],
   "source": [
    "#display settings for tracjectories\n",
    "histPerCol=5\n",
    "histPerRow=5\n",
    "\n",
    "print(\"Displaying\")\n",
    "print(histPerRow*histPerCol)"
   ]
  },
  {
   "cell_type": "code",
   "execution_count": null,
   "id": "b4a3f5b3",
   "metadata": {
    "scrolled": true
   },
   "outputs": [],
   "source": [
    "#when you run this, you should get a pop up window. check your windows bar at the bottom of the deskstop  \n",
    "import numpy as np\n",
    "from PIL import Image\n",
    "import argparse\n",
    "import cv2\n",
    "\n",
    "\n",
    "[refptnp,refsc,refcol,sum_of_rows, out]=disp_hist(filename,histPerCol,histPerRow) #change for dax\n",
    "print('pk, t1 ,t2')\n",
    "print(out)\n"
   ]
  },
  {
   "cell_type": "code",
   "execution_count": 3,
   "id": "8a388159",
   "metadata": {},
   "outputs": [
    {
     "name": "stdout",
     "output_type": "stream",
     "text": [
      "D:/Jerry/DATA/localization_precision_dev_data/20230126_bases_forjerry/10hz_25laser-1_PC/pos_0/testtrcsv/00016.csv\n"
     ]
    }
   ],
   "source": [
    "#Remeber python indexs from 0 so if you want your first selection to be the peak you analyze pick 0\n",
    "#also the peaks go in paired sets, the first two selections will be \"peak 0\"\n",
    "\n",
    "chosenpk=0\n",
    "\n",
    "#pk=str(out[chosenpk*2,0]).zfill(5)\n",
    "#frStart=out[chosenpk*2,1]\n",
    "#frEnd=out[((chosenpk*2)+1),2] \n",
    "#print(\"Peak: \"+pk)\n",
    "#print(\"Start: \"+str(frStart))\n",
    "#print(\"End: \"+str(frEnd))\n",
    "\n",
    "pk=str(16).zfill(5)\n",
    "csvpath=filename+'trcsv/'\n",
    "csvnum=csvpath+pk+'.csv'\n",
    "print(csvnum)"
   ]
  },
  {
   "cell_type": "markdown",
   "id": "514e28d6",
   "metadata": {},
   "source": [
    "# DORA Graphing"
   ]
  },
  {
   "cell_type": "markdown",
   "id": "2613e730",
   "metadata": {},
   "source": [
    "### Step 1: Input graphing parameters"
   ]
  },
  {
   "cell_type": "code",
   "execution_count": 4,
   "id": "089fdd81",
   "metadata": {},
   "outputs": [],
   "source": [
    "#universal parameters\n",
    "exp_tag = exp_title + pk # a tag that caries the name of the experiment\n",
    "file_name = csvnum  \n",
    "pixel_size = 117  # in nanometers\n",
    "time_step = 100  # miliseconds per frame in trajectory movie\n",
    "frame_start = 0  # enter 0 to start from beginning of dataset\n",
    "frame_end = -1  # enter -1 to end at the last value of the data set\n",
    "cmap = \"spring_r\" # enter a color map string from this https://matplotlib.org/2.0.2/examples/color/colormaps_reference.html\n",
    "cmappx = \"Sunsetdark\" # color map string from https://plotly.com/python/builtin-colorscales/\n",
    "first_zero_end = 'no'  # yes to cut off all values after first 0,0 = x,y\n",
    "graph_centers = \"yes\" #'yes' or 'no' to graphing the centers of the data. \n",
    "\n",
    "\n",
    "#downsampling parameters\n",
    "bin_size = 10  # bin size for downsample/filter processing\n",
    "processing = \"downsample\"  # enter downsample, moving average, or none\n",
    "\n",
    "#Plot Parameters\n",
    "\n",
    "#Which Graph?\n",
    "plot_type = \"2Dpx\"\n",
    "# Graphing options:\n",
    "    # Trajectory Maps:\n",
    "    # 2D: Colorful 2D visulization of the rotor from above\n",
    "    # 2Dpx: 2D in plotly express instead of matplotlib\n",
    "    # 3D: 2D plot but time is an axis\n",
    "\n",
    "    # Grid plot\n",
    "    # grid: a grid of little snippets of the data\n",
    "\n",
    "    # Angular Analysis:\n",
    "\n",
    "    #         By Jerry\n",
    "    # radius_filter: Demarcate the excluded data points that will be eliminated from calculations\n",
    "    # find_excluded_angle: Indicate excluded angles within angular_continuous by Jerry\n",
    "    # angular_continuous_filtered: Angular Continuous recalculated with excluded points filtered. Excluded points skips indicated.\n",
    "    # basal3: Graphs tailored for the basal graph analysis 3/14/2022\n",
    "    # Angular Continuous with a downsampled curve as well. still has bugs with excluded type labelling\n",
    "\n",
    "    #         By Claire:  [NOT DONE]\n",
    "    # angular: angle vs time, but it's not cummulative and resets at 360 to 0 (Claire)\n",
    "    # angular_continuous: Claire's Calculation of a cummulative angle\n",
    "    # find_excluded_angle_CR: Indicate excluded angles within angular_continuous by Claire's calculations\n",
    "\n",
    "    # Animation   [NOT DONE]\n",
    "    # interactive: Interactive graph\n",
    "    # animated: animated trajectory in notebook\n",
    "    # HTML: Animated trajectory in a new window. May run better\n",
    "\n",
    "##### Trajectory Maps Parameters:\n",
    "\n",
    "# \"yes\" enables center display of center coordinates if 2D or Find excluded angle\n",
    "display_center = \"no\"\n",
    "\n",
    "expected_radius = 60 # displays expected ORBIT circular trajectory of given radius (nm)\n",
    "\n",
    "#Labels\n",
    "x_axis_label = \"x (nm)\"\n",
    "y_axis_label = \"y (nm)\"\n",
    "z_axis_label = \"Time (ms)\"  \n",
    "unit = \"nm\"  # enter pixel or nm\n",
    "\n",
    "#Formatting parameters\n",
    "pixel_min = -0.75  # setting min/max axis range (pixel)\n",
    "pixel_max = 0.75\n",
    "marker_size = 15\n",
    "\n",
    "# change axis increments for nicely fitting tick marks (pixel)\n",
    "axis_increment_pixel = 7\n",
    "# change axis increments for nicely fitting tick marks (nm)\n",
    "axis_increment_nm = 50\n",
    "nm_min = -150  # setting min/max axis range (nm)\n",
    "nm_max = 150\n",
    "#Do you want to save your plot?\n",
    "save_plot = 'yes'\n",
    "\n",
    "#########Angle Versus Time (AVT or avt) Graphs\n",
    "\n",
    "#       Formatting parameters for 'radius filter plot'\n",
    "rad_filter_type_lower = 'nm'  # enter 'zscore' or 'nm' for choice\n",
    "rad_filter_type_upper = 'zscore'  # enter 'zscore' or 'nm' for choice\n",
    "z_up = 3  # enter an upper bound for z score.\n",
    "z_down = -3  # enter a lower bound for z score\n",
    "dist_low = 30  # lower bound for ABS of Radius filter\n",
    "dist_high = 70  # upper bound for ABS of Radius filter\n",
    "\n",
    "#       Formatting parameters for 'angular_continuous_filtered' plot\n",
    "# enter 'line' or 'scatter' for a line graph or a scatter plot. Line plot makes up points when hovered\n",
    "graph_style = 'line'\n",
    "\n",
    "\n",
    "#Formatting parameters 'grid' plot\n",
    "frames_per_plot = 20  # refers to grid plot\n",
    "columns = 7  # columns of plots (grid plot)\n",
    "fig_size_x = 10 # adjust display parameters for graphs to fit nicely, mostly used for 'grid' plot\n",
    "fig_size_y  = 10 # adjust display parameters for graphs to fit nicely, mostly used for 'grid' plot\n",
    "\n",
    "#Formatting parameters 'animation' plot\n",
    "frame_speed = 20  # for animation only (ms)\n",
    "tail_length = 50  # for animation only\n",
    "\n",
    "#DORA.table parameters: \n",
    "save_table = 'no' #saves filtered table if \"yes\"\n",
    "\n",
    "#DORA.collect_variable parameter package\n",
    "###DataTable = avt_good cannot have bc it has not been defined yet\n",
    "col = \"Delta Angle\"\n",
    "sample_conditions= analysisName\n",
    "name_saving_folder = \"Data Tables\""
   ]
  },
  {
   "cell_type": "markdown",
   "id": "4cb35d7d",
   "metadata": {},
   "source": [
    "### Step 2: Find Center of Peak"
   ]
  },
  {
   "cell_type": "code",
   "execution_count": 5,
   "id": "81a33327",
   "metadata": {},
   "outputs": [
    {
     "name": "stdout",
     "output_type": "stream",
     "text": [
      "I have saved the picture with the name:\n",
      "Algorithm_Center_Guess_Localization_Precision00016_centering.png\n"
     ]
    },
    {
     "data": {
      "image/png": "[encoded data removed]",
      "text/plain": [
       "<Figure size 600x600 with 2 Axes>"
      ]
     },
     "metadata": {
      "needs_background": "light"
     },
     "output_type": "display_data"
    },
    {
     "name": "stdout",
     "output_type": "stream",
     "text": [
      "The center is (103.21114909892178, 453.63009643554693)\n",
      "If the center is satisfactory, change the find_center_coordinates parameter to no\n",
      "If the center is unsatisfactory, adjust the frame_start and frame_end parameters and try again\n"
     ]
    },
    {
     "data": {
      "image/png": "[encoded data removed]",
      "text/plain": [
       "<Figure size 432x288 with 1 Axes>"
      ]
     },
     "metadata": {
      "needs_background": "light"
     },
     "output_type": "display_data"
    }
   ],
   "source": [
    "initial_parameters = [file_name, time_step, frame_start, frame_end, cmap, exp_tag, first_zero_end, graph_centers,save_plot]\n",
    "center, data, ind_invalid_reading, data_back, my_rad_estimate = DORA.find_center(*initial_parameters)\n",
    "\n",
    "# NEW CENTERING ALGORITHM WITH LOW RES HIST\n",
    "\n",
    "#section x and y data\n",
    "x = data[\"X position\"]\n",
    "y = data[\"Y position\"]\n",
    "\n",
    "# select arbitrary bin value:\n",
    "bin_num = 50\n",
    "center_OR = DORA.find_center_hist_max(x, y, bin_num)"
   ]
  },
  {
   "cell_type": "markdown",
   "id": "ce4e0f07",
   "metadata": {},
   "source": [
    "### Step 3: Downsample Data"
   ]
  },
  {
   "cell_type": "code",
   "execution_count": 6,
   "id": "96138c69",
   "metadata": {},
   "outputs": [],
   "source": [
    "## Overide center\n",
    "\n",
    "#option 1: Use Histograph Centering\n",
    "# center = center_OR\n",
    "\n",
    "#option 2: Mannually Overide Center\n",
    "center = [101,453]\n",
    "\n",
    "#option 3: Continue with normal centering algorithm by commenting out above options"
   ]
  },
  {
   "cell_type": "code",
   "execution_count": 7,
   "id": "15a5d2ce",
   "metadata": {},
   "outputs": [],
   "source": [
    "downsample_parameters = [bin_size, processing, data, center, time_step, pixel_size, frame_start, frame_end]\n",
    "if processing == \"downsample\":\n",
    "    down_sampled_df,frame_start,frame_end = DORA.downsample(*downsample_parameters)\n",
    "else:\n",
    "    down_sampled_df = DORA.downsample(*downsample_parameters)"
   ]
  },
  {
   "cell_type": "markdown",
   "id": "bd4c67ae",
   "metadata": {},
   "source": [
    "### Step 4: Graph Data"
   ]
  },
  {
   "cell_type": "code",
   "execution_count": 8,
   "id": "b73e46fa",
   "metadata": {
    "scrolled": false
   },
   "outputs": [
    {
     "data": {
      "application/vnd.plotly.v1+json": {
       "config": {
        "plotlyServerURL": "https://plot.ly"
       },
       "data": [
        {
         "hovertemplate": "X displacement (nm)=%{x}<br>Y displacement (nm)=%{y}<br>Time (ms)=%{marker.color}<extra></extra>",
         "legendgroup": "",
         "marker": {
          "color": [
           450,
           1450,
           2450,
           3450,
           4450,
           5450,
           6450,
           7450,
           8450,
           9450,
           10450,
           11450,
           12450,
           13450,
           14450,
           15450,
           16450,
           17450,
           18450,
           19450,
           20450,
           21450,
           22450,
           23450,
           24450,
           25450,
           26450,
           27450,
           28450,
           29450,
           30690,
           32100,
           33150,
           34150,
           35210,
           36250,
           37250,
           38250,
           39310,
           40350,
           41420,
           42450,
           43490,
           44600,
           45920,
           47640,
           49770,
           51520,
           53750,
           55520,
           57310,
           60060,
           62610,
           64710,
           69640,
           75030,
           80340,
           85670,
           92640
          ],
          "coloraxis": "coloraxis",
          "size": 20,
          "symbol": "circle"
         },
         "mode": "markers",
         "name": "",
         "orientation": "v",
         "showlegend": false,
         "type": "scatter",
         "x": [
          -36.23909683227539,
          -39.47330703735335,
          -36.84502029419061,
          -32.59248733520591,
          -22.467995452881024,
          -16.924081420898936,
          -24.44840469360368,
          -20.61862564086947,
          -19.353398895264338,
          -15.494787597656583,
          -18.623220062256358,
          -25.15457153320329,
          -18.808978271484875,
          -12.089012145996758,
          -0.9985061645507812,
          -1.9319389343266706,
          9.386904144286778,
          -5.802154541015791,
          17.789941406249667,
          13.421543884276844,
          16.44946517944286,
          24.42742767333968,
          23.209600067138343,
          27.721266174315577,
          57.93638763427701,
          17.23605880737288,
          51.465467834472655,
          49.07381973266602,
          42.652887725830084,
          31.22139358520524,
          -18.543061065674323,
          53.21691513061474,
          51.53375473022444,
          49.55218505859309,
          53.19334945678677,
          61.69323806762662,
          70.39852294921825,
          87.90032043456998,
          96.7714576721188,
          72.36348953247003,
          63.116729736327294,
          46.1799728393553,
          37.13307495117139,
          95.36010589599559,
          77.14964218139615,
          15.30554809570246,
          34.69750900268505,
          75.61644515991144,
          76.17184524536033,
          83.10434875488248,
          44.522431182860835,
          65.18559951782143,
          110.76027374267578,
          114.21746520996062,
          -5.895970916748865,
          78.62901306152244,
          136.1297927856439,
          -18.67195816040138,
          127.47708435058512
         ],
         "xaxis": "x",
         "y": [
          151.61119079589778,
          142.2299102783223,
          130.6284576416009,
          126.72583923339843,
          116.66151123046942,
          101.12673339843882,
          89.58669433593684,
          92.36887207030983,
          80.40929260253775,
          64.59779663086003,
          65.87177124023637,
          66.31594848632812,
          55.33827209472656,
          49.963156127930354,
          39.00047607421742,
          35.751983642576796,
          39.49892578125,
          15.468008422851563,
          -0.2902862548834776,
          9.60122680664129,
          -0.4752410888698478,
          -8.350103759765625,
          -20.22791748046875,
          -32.44993286132679,
          -31.874002075195314,
          -39.56926574707031,
          -50.100979614259145,
          -49.71571655273304,
          -61.458563232420545,
          -71.52824707031316,
          -69.49445800781317,
          -85.60730895995894,
          -84.21907653808394,
          -86.74203186034956,
          -98.0860473632819,
          -92.33388061523638,
          -127.00934143066142,
          -100.3751312255866,
          -133.4688354492181,
          -117.1603179931634,
          -154.33945312499935,
          -126.83259887695313,
          -94.64688720703191,
          -158.52735900878773,
          -171.16784362792905,
          -89.30283508300847,
          -156.46607666015692,
          -164.41663513183397,
          -182.03269042968483,
          -203.55850524902212,
          -114.43455505371159,
          -137.5435546875,
          -154.03024291992188,
          -200.1243438720703,
          -78.55974426269465,
          61.18363037109441,
          -41.725167846681,
          126.69406127929885,
          142.2541900634792
         ],
         "yaxis": "y"
        }
       ],
       "layout": {
        "coloraxis": {
         "colorbar": {
          "tickfont": {
           "size": 16
          },
          "title": {
           "font": {
            "size": 20
           },
           "text": "Frames"
          }
         },
         "colorscale": [
          [
           0,
           "rgb(252, 222, 156)"
          ],
          [
           0.16666666666666666,
           "rgb(250, 164, 118)"
          ],
          [
           0.3333333333333333,
           "rgb(240, 116, 110)"
          ],
          [
           0.5,
           "rgb(227, 79, 111)"
          ],
          [
           0.6666666666666666,
           "rgb(220, 57, 119)"
          ],
          [
           0.8333333333333334,
           "rgb(185, 37, 122)"
          ],
          [
           1,
           "rgb(124, 29, 111)"
          ]
         ]
        },
        "height": 600,
        "legend": {
         "tracegroupgap": 0,
         "x": 1.3,
         "y": 0.5
        },
        "margin": {
         "b": 50,
         "l": 50,
         "r": 100,
         "t": 50
        },
        "paper_bgcolor": "rgba(255,255,255,1)",
        "plot_bgcolor": "rgba(0,0,0,0)",
        "shapes": [
         {
          "line": {
           "color": "magenta"
          },
          "type": "circle",
          "x0": -60,
          "x1": 60,
          "xref": "x",
          "y0": -60,
          "y1": 60,
          "yref": "y"
         }
        ],
        "template": {
         "data": {
          "bar": [
           {
            "error_x": {
             "color": "#2a3f5f"
            },
            "error_y": {
             "color": "#2a3f5f"
            },
            "marker": {
             "line": {
              "color": "#E5ECF6",
              "width": 0.5
             },
             "pattern": {
              "fillmode": "overlay",
              "size": 10,
              "solidity": 0.2
             }
            },
            "type": "bar"
           }
          ],
          "barpolar": [
           {
            "marker": {
             "line": {
              "color": "#E5ECF6",
              "width": 0.5
             },
             "pattern": {
              "fillmode": "overlay",
              "size": 10,
              "solidity": 0.2
             }
            },
            "type": "barpolar"
           }
          ],
          "carpet": [
           {
            "aaxis": {
             "endlinecolor": "#2a3f5f",
             "gridcolor": "white",
             "linecolor": "white",
             "minorgridcolor": "white",
             "startlinecolor": "#2a3f5f"
            },
            "baxis": {
             "endlinecolor": "#2a3f5f",
             "gridcolor": "white",
             "linecolor": "white",
             "minorgridcolor": "white",
             "startlinecolor": "#2a3f5f"
            },
            "type": "carpet"
           }
          ],
          "choropleth": [
           {
            "colorbar": {
             "outlinewidth": 0,
             "ticks": ""
            },
            "type": "choropleth"
           }
          ],
          "contour": [
           {
            "colorbar": {
             "outlinewidth": 0,
             "ticks": ""
            },
            "colorscale": [
             [
              0,
              "#0d0887"
             ],
             [
              0.1111111111111111,
              "#46039f"
             ],
             [
              0.2222222222222222,
              "#7201a8"
             ],
             [
              0.3333333333333333,
              "#9c179e"
             ],
             [
              0.4444444444444444,
              "#bd3786"
             ],
             [
              0.5555555555555556,
              "#d8576b"
             ],
             [
              0.6666666666666666,
              "#ed7953"
             ],
             [
              0.7777777777777778,
              "#fb9f3a"
             ],
             [
              0.8888888888888888,
              "#fdca26"
             ],
             [
              1,
              "#f0f921"
             ]
            ],
            "type": "contour"
           }
          ],
          "contourcarpet": [
           {
            "colorbar": {
             "outlinewidth": 0,
             "ticks": ""
            },
            "type": "contourcarpet"
           }
          ],
          "heatmap": [
           {
            "colorbar": {
             "outlinewidth": 0,
             "ticks": ""
            },
            "colorscale": [
             [
              0,
              "#0d0887"
             ],
             [
              0.1111111111111111,
              "#46039f"
             ],
             [
              0.2222222222222222,
              "#7201a8"
             ],
             [
              0.3333333333333333,
              "#9c179e"
             ],
             [
              0.4444444444444444,
              "#bd3786"
             ],
             [
              0.5555555555555556,
              "#d8576b"
             ],
             [
              0.6666666666666666,
              "#ed7953"
             ],
             [
              0.7777777777777778,
              "#fb9f3a"
             ],
             [
              0.8888888888888888,
              "#fdca26"
             ],
             [
              1,
              "#f0f921"
             ]
            ],
            "type": "heatmap"
           }
          ],
          "heatmapgl": [
           {
            "colorbar": {
             "outlinewidth": 0,
             "ticks": ""
            },
            "colorscale": [
             [
              0,
              "#0d0887"
             ],
             [
              0.1111111111111111,
              "#46039f"
             ],
             [
              0.2222222222222222,
              "#7201a8"
             ],
             [
              0.3333333333333333,
              "#9c179e"
             ],
             [
              0.4444444444444444,
              "#bd3786"
             ],
             [
              0.5555555555555556,
              "#d8576b"
             ],
             [
              0.6666666666666666,
              "#ed7953"
             ],
             [
              0.7777777777777778,
              "#fb9f3a"
             ],
             [
              0.8888888888888888,
              "#fdca26"
             ],
             [
              1,
              "#f0f921"
             ]
            ],
            "type": "heatmapgl"
           }
          ],
          "histogram": [
           {
            "marker": {
             "pattern": {
              "fillmode": "overlay",
              "size": 10,
              "solidity": 0.2
             }
            },
            "type": "histogram"
           }
          ],
          "histogram2d": [
           {
            "colorbar": {
             "outlinewidth": 0,
             "ticks": ""
            },
            "colorscale": [
             [
              0,
              "#0d0887"
             ],
             [
              0.1111111111111111,
              "#46039f"
             ],
             [
              0.2222222222222222,
              "#7201a8"
             ],
             [
              0.3333333333333333,
              "#9c179e"
             ],
             [
              0.4444444444444444,
              "#bd3786"
             ],
             [
              0.5555555555555556,
              "#d8576b"
             ],
             [
              0.6666666666666666,
              "#ed7953"
             ],
             [
              0.7777777777777778,
              "#fb9f3a"
             ],
             [
              0.8888888888888888,
              "#fdca26"
             ],
             [
              1,
              "#f0f921"
             ]
            ],
            "type": "histogram2d"
           }
          ],
          "histogram2dcontour": [
           {
            "colorbar": {
             "outlinewidth": 0,
             "ticks": ""
            },
            "colorscale": [
             [
              0,
              "#0d0887"
             ],
             [
              0.1111111111111111,
              "#46039f"
             ],
             [
              0.2222222222222222,
              "#7201a8"
             ],
             [
              0.3333333333333333,
              "#9c179e"
             ],
             [
              0.4444444444444444,
              "#bd3786"
             ],
             [
              0.5555555555555556,
              "#d8576b"
             ],
             [
              0.6666666666666666,
              "#ed7953"
             ],
             [
              0.7777777777777778,
              "#fb9f3a"
             ],
             [
              0.8888888888888888,
              "#fdca26"
             ],
             [
              1,
              "#f0f921"
             ]
            ],
            "type": "histogram2dcontour"
           }
          ],
          "mesh3d": [
           {
            "colorbar": {
             "outlinewidth": 0,
             "ticks": ""
            },
            "type": "mesh3d"
           }
          ],
          "parcoords": [
           {
            "line": {
             "colorbar": {
              "outlinewidth": 0,
              "ticks": ""
             }
            },
            "type": "parcoords"
           }
          ],
          "pie": [
           {
            "automargin": true,
            "type": "pie"
           }
          ],
          "scatter": [
           {
            "marker": {
             "colorbar": {
              "outlinewidth": 0,
              "ticks": ""
             }
            },
            "type": "scatter"
           }
          ],
          "scatter3d": [
           {
            "line": {
             "colorbar": {
              "outlinewidth": 0,
              "ticks": ""
             }
            },
            "marker": {
             "colorbar": {
              "outlinewidth": 0,
              "ticks": ""
             }
            },
            "type": "scatter3d"
           }
          ],
          "scattercarpet": [
           {
            "marker": {
             "colorbar": {
              "outlinewidth": 0,
              "ticks": ""
             }
            },
            "type": "scattercarpet"
           }
          ],
          "scattergeo": [
           {
            "marker": {
             "colorbar": {
              "outlinewidth": 0,
              "ticks": ""
             }
            },
            "type": "scattergeo"
           }
          ],
          "scattergl": [
           {
            "marker": {
             "colorbar": {
              "outlinewidth": 0,
              "ticks": ""
             }
            },
            "type": "scattergl"
           }
          ],
          "scattermapbox": [
           {
            "marker": {
             "colorbar": {
              "outlinewidth": 0,
              "ticks": ""
             }
            },
            "type": "scattermapbox"
           }
          ],
          "scatterpolar": [
           {
            "marker": {
             "colorbar": {
              "outlinewidth": 0,
              "ticks": ""
             }
            },
            "type": "scatterpolar"
           }
          ],
          "scatterpolargl": [
           {
            "marker": {
             "colorbar": {
              "outlinewidth": 0,
              "ticks": ""
             }
            },
            "type": "scatterpolargl"
           }
          ],
          "scatterternary": [
           {
            "marker": {
             "colorbar": {
              "outlinewidth": 0,
              "ticks": ""
             }
            },
            "type": "scatterternary"
           }
          ],
          "surface": [
           {
            "colorbar": {
             "outlinewidth": 0,
             "ticks": ""
            },
            "colorscale": [
             [
              0,
              "#0d0887"
             ],
             [
              0.1111111111111111,
              "#46039f"
             ],
             [
              0.2222222222222222,
              "#7201a8"
             ],
             [
              0.3333333333333333,
              "#9c179e"
             ],
             [
              0.4444444444444444,
              "#bd3786"
             ],
             [
              0.5555555555555556,
              "#d8576b"
             ],
             [
              0.6666666666666666,
              "#ed7953"
             ],
             [
              0.7777777777777778,
              "#fb9f3a"
             ],
             [
              0.8888888888888888,
              "#fdca26"
             ],
             [
              1,
              "#f0f921"
             ]
            ],
            "type": "surface"
           }
          ],
          "table": [
           {
            "cells": {
             "fill": {
              "color": "#EBF0F8"
             },
             "line": {
              "color": "white"
             }
            },
            "header": {
             "fill": {
              "color": "#C8D4E3"
             },
             "line": {
              "color": "white"
             }
            },
            "type": "table"
           }
          ]
         },
         "layout": {
          "annotationdefaults": {
           "arrowcolor": "#2a3f5f",
           "arrowhead": 0,
           "arrowwidth": 1
          },
          "autotypenumbers": "strict",
          "coloraxis": {
           "colorbar": {
            "outlinewidth": 0,
            "ticks": ""
           }
          },
          "colorscale": {
           "diverging": [
            [
             0,
             "#8e0152"
            ],
            [
             0.1,
             "#c51b7d"
            ],
            [
             0.2,
             "#de77ae"
            ],
            [
             0.3,
             "#f1b6da"
            ],
            [
             0.4,
             "#fde0ef"
            ],
            [
             0.5,
             "#f7f7f7"
            ],
            [
             0.6,
             "#e6f5d0"
            ],
            [
             0.7,
             "#b8e186"
            ],
            [
             0.8,
             "#7fbc41"
            ],
            [
             0.9,
             "#4d9221"
            ],
            [
             1,
             "#276419"
            ]
           ],
           "sequential": [
            [
             0,
             "#0d0887"
            ],
            [
             0.1111111111111111,
             "#46039f"
            ],
            [
             0.2222222222222222,
             "#7201a8"
            ],
            [
             0.3333333333333333,
             "#9c179e"
            ],
            [
             0.4444444444444444,
             "#bd3786"
            ],
            [
             0.5555555555555556,
             "#d8576b"
            ],
            [
             0.6666666666666666,
             "#ed7953"
            ],
            [
             0.7777777777777778,
             "#fb9f3a"
            ],
            [
             0.8888888888888888,
             "#fdca26"
            ],
            [
             1,
             "#f0f921"
            ]
           ],
           "sequentialminus": [
            [
             0,
             "#0d0887"
            ],
            [
             0.1111111111111111,
             "#46039f"
            ],
            [
             0.2222222222222222,
             "#7201a8"
            ],
            [
             0.3333333333333333,
             "#9c179e"
            ],
            [
             0.4444444444444444,
             "#bd3786"
            ],
            [
             0.5555555555555556,
             "#d8576b"
            ],
            [
             0.6666666666666666,
             "#ed7953"
            ],
            [
             0.7777777777777778,
             "#fb9f3a"
            ],
            [
             0.8888888888888888,
             "#fdca26"
            ],
            [
             1,
             "#f0f921"
            ]
           ]
          },
          "colorway": [
           "#636efa",
           "#EF553B",
           "#00cc96",
           "#ab63fa",
           "#FFA15A",
           "#19d3f3",
           "#FF6692",
           "#B6E880",
           "#FF97FF",
           "#FECB52"
          ],
          "font": {
           "color": "#2a3f5f"
          },
          "geo": {
           "bgcolor": "white",
           "lakecolor": "white",
           "landcolor": "#E5ECF6",
           "showlakes": true,
           "showland": true,
           "subunitcolor": "white"
          },
          "hoverlabel": {
           "align": "left"
          },
          "hovermode": "closest",
          "mapbox": {
           "style": "light"
          },
          "paper_bgcolor": "white",
          "plot_bgcolor": "#E5ECF6",
          "polar": {
           "angularaxis": {
            "gridcolor": "white",
            "linecolor": "white",
            "ticks": ""
           },
           "bgcolor": "#E5ECF6",
           "radialaxis": {
            "gridcolor": "white",
            "linecolor": "white",
            "ticks": ""
           }
          },
          "scene": {
           "xaxis": {
            "backgroundcolor": "#E5ECF6",
            "gridcolor": "white",
            "gridwidth": 2,
            "linecolor": "white",
            "showbackground": true,
            "ticks": "",
            "zerolinecolor": "white"
           },
           "yaxis": {
            "backgroundcolor": "#E5ECF6",
            "gridcolor": "white",
            "gridwidth": 2,
            "linecolor": "white",
            "showbackground": true,
            "ticks": "",
            "zerolinecolor": "white"
           },
           "zaxis": {
            "backgroundcolor": "#E5ECF6",
            "gridcolor": "white",
            "gridwidth": 2,
            "linecolor": "white",
            "showbackground": true,
            "ticks": "",
            "zerolinecolor": "white"
           }
          },
          "shapedefaults": {
           "line": {
            "color": "#2a3f5f"
           }
          },
          "ternary": {
           "aaxis": {
            "gridcolor": "white",
            "linecolor": "white",
            "ticks": ""
           },
           "baxis": {
            "gridcolor": "white",
            "linecolor": "white",
            "ticks": ""
           },
           "bgcolor": "#E5ECF6",
           "caxis": {
            "gridcolor": "white",
            "linecolor": "white",
            "ticks": ""
           }
          },
          "title": {
           "x": 0.05
          },
          "xaxis": {
           "automargin": true,
           "gridcolor": "white",
           "linecolor": "white",
           "ticks": "",
           "title": {
            "standoff": 15
           },
           "zerolinecolor": "white",
           "zerolinewidth": 2
          },
          "yaxis": {
           "automargin": true,
           "gridcolor": "white",
           "linecolor": "white",
           "ticks": "",
           "title": {
            "standoff": 15
           },
           "zerolinecolor": "white",
           "zerolinewidth": 2
          }
         }
        },
        "title": {
         "font": {
          "size": 25
         },
         "text": "2D_Map_Localization_Precision00016"
        },
        "width": 800,
        "xaxis": {
         "anchor": "y",
         "domain": [
          0,
          1
         ],
         "dtick": 50,
         "linecolor": "black",
         "linewidth": 2,
         "mirror": true,
         "range": [
          -150,
          150
         ],
         "scaleanchor": "y",
         "scaleratio": 1,
         "showgrid": false,
         "tick0": -150,
         "tickangle": -45,
         "tickfont": {
          "size": 22
         },
         "tickmode": "linear",
         "title": {
          "font": {
           "family": "Arial",
           "size": 22
          },
          "text": "X displacement (nm)"
         }
        },
        "yaxis": {
         "anchor": "x",
         "domain": [
          0,
          1
         ],
         "dtick": 50,
         "linecolor": "black",
         "linewidth": 2,
         "mirror": true,
         "range": [
          -150,
          150
         ],
         "scaleanchor": "x",
         "scaleratio": 1,
         "showgrid": false,
         "tick0": -150,
         "tickangle": 0,
         "tickfont": {
          "size": 22
         },
         "tickmode": "linear",
         "title": {
          "font": {
           "family": "Arial",
           "size": 22
          },
          "text": "Y displacement (nm)"
         }
        }
       }
      }
     },
     "metadata": {},
     "output_type": "display_data"
    }
   ],
   "source": [
    "#Graph Groupings:\n",
    "# create a list of the acceptable groupings for the trajectory maps\n",
    "trajectory_map = [\"2D\", \"2Dpx\", \"3D\"]\n",
    "\n",
    "# create a list of the acceptable groupings for the Angle Time grouping\n",
    "AngleTime = [\"radius_filter\", \"find_err_angle\", \"angular_continuous_filtered\",\n",
    "                \"basal3\", \"angular\", \"angular_continuous\", \"find_err_angle_CR\"]\n",
    "\n",
    "# create a list of the acceptable groupings for the Animations Grouping\n",
    "\n",
    "animations = [\"interactive\", \"animated\", \"HTML\"]\n",
    "\n",
    "\n",
    "#Trajectory map parameters:\n",
    "tajectory_map_parameters = [file_name, down_sampled_df, plot_type, display_center, expected_radius, x_axis_label, y_axis_label, z_axis_label, unit, \n",
    "pixel_min, pixel_max, axis_increment_nm, axis_increment_pixel, nm_min, nm_max, save_plot, frame_start, frame_end, time_step,cmap,exp_tag,cmappx,marker_size]\n",
    "\n",
    "#Angle Versus Time (AVT or avt) parameters:\n",
    "avt_parameters = [file_name, down_sampled_df, plot_type, display_center, ind_invalid_reading, rad_filter_type_upper,\n",
    "                  rad_filter_type_lower, z_up, z_down, dist_high, dist_low, graph_style, bin_size, frame_start, frame_end,\n",
    "                  display_center, exp_tag, x_axis_label, y_axis_label, z_axis_label, unit, pixel_min, pixel_max,\n",
    "                  axis_increment_nm, axis_increment_pixel, nm_min, nm_max, save_plot, data_back, cmap, exp_tag] \n",
    "\n",
    "#Animated Parameters\n",
    "animated_parameters = [file_name, down_sampled_df, plot_type, display_center, ind_invalid_reading, rad_filter_type_upper,\n",
    "                  rad_filter_type_lower, z_up, z_down, dist_high, dist_low, graph_style, bin_size, frame_start, frame_end,\n",
    "                  display_center, exp_tag, x_axis_label, y_axis_label, z_axis_label, unit, pixel_min, pixel_max,\n",
    "                  axis_increment_nm, axis_increment_pixel, nm_min, nm_max, save_plot, data_back, cmap, exp_tag, frame_speed, tail_length] \n",
    "\n",
    "#Grid Parameters\n",
    "grid_parameters = [file_name, down_sampled_df, plot_type, display_center, exp_tag, x_axis_label, y_axis_label, z_axis_label, unit, \n",
    "pixel_min, pixel_max, axis_increment_nm, axis_increment_pixel, nm_min, nm_max, save_plot, frame_start, frame_end, time_step,cmap,exp_tag, \n",
    "frames_per_plot, columns, fig_size_x, fig_size_y]\n",
    "\n",
    "\n",
    "# #DORA.graph(plot_type,*relevant_parameters)\n",
    "\n",
    "if plot_type in trajectory_map:\n",
    "    %matplotlib notebook\n",
    "    DORA.graph(plot_type,*tajectory_map_parameters)\n",
    "if plot_type in animations:\n",
    "    %matplotlib notebook\n",
    "    DORA.graph(plot_type,*animated_parameters)\n",
    "if plot_type == \"grid\":\n",
    "    DORA.graph(plot_type, *grid_parameters)\n",
    "if plot_type in AngleTime:\n",
    "    DORA.graph(plot_type,*avt_parameters)\n",
    "\n",
    "\n",
    "    \n"
   ]
  },
  {
   "cell_type": "markdown",
   "id": "1d1616b8",
   "metadata": {},
   "source": [
    "### Step 5: Animate Plots"
   ]
  },
  {
   "cell_type": "code",
   "execution_count": null,
   "id": "37825805",
   "metadata": {},
   "outputs": [],
   "source": [
    "### Choose animation plot parameters ###\n",
    "cmap_name = \"plasma_r\"\n",
    "tail_length = 50\n",
    "frame_speed_ms = 20\n",
    "\n",
    "### Imports for the code\n",
    "import pandas as pd\n",
    "import numpy as np\n",
    "import matplotlib.pyplot as plt\n",
    "from matplotlib.animation import FuncAnimation\n",
    "from matplotlib import ticker\n",
    "from IPython.display import HTML\n",
    "\n",
    "### Allocate X and Y data into dataframe called coords ###\n",
    "\n",
    "# import matplotlib\n",
    "import matplotlib.pyplot as plt\n",
    "# allows for animation to animate\n",
    "%matplotlib notebook\n",
    "\n",
    "# establish coordinate dataframe\n",
    "coords = down_sampled_df[[\"X displacement (nm)\", \"Y displacement (nm)\"]].copy()\n",
    "coords = coords.rename(columns={\"X displacement (nm)\": \"x\", \"Y displacement (nm)\": \"y\"})\n",
    "\n",
    "### Make an initial graph ###\n",
    "fig, ax = plt.subplots(1,1,figsize = (5,5))\n",
    "\n",
    "# plot title and font configurations\n",
    "\n",
    "# take the file name and separate from the extension\n",
    "# the first value in the tuple is the number\n",
    "# the second is .csv \n",
    "# the number 00086.csv is the peak --> so this code takes the peak number\n",
    "pk = os.path.splitext(file_name)[0]\n",
    "\n",
    "graph_type = 'Animated' \n",
    "\n",
    "# change title order!!! \n",
    "list_of_strings = [graph_type, exp_tag]\n",
    "\n",
    "#in quotes is the the delimiter between the items in the string\n",
    "# by default it is a _ \n",
    "my_title = \"_\".join(list_of_strings)\n",
    "\n",
    "plt.title(my_title, fontweight='bold', fontsize=16)\n",
    "ax.set_title(my_title, fontweight = 'bold', fontsize = 16)\n",
    "ax.set_xlabel(\"X (nm)\",fontweight = 'bold', fontsize = 12)\n",
    "ax.set_ylabel(\"Y (nm)\",fontweight = 'bold', fontsize = 12)\n",
    "\n",
    "# set graph limit conditions depending on unit specified\n",
    "if unit == \"pixel\":\n",
    "    ax.set_xlim(pixel_min, pixel_max)\n",
    "    ax.set_ylim(pixel_min, pixel_max)\n",
    "    ax.yaxis.set_major_locator(\n",
    "        ticker.LinearLocator(axis_increment_pixel))\n",
    "    ax.xaxis.set_major_locator(\n",
    "        ticker.LinearLocator(axis_increment_pixel))\n",
    "if unit == \"nm\":\n",
    "    ax.set_xlim(nm_min, nm_max)\n",
    "    ax.set_ylim(nm_min, nm_max)\n",
    "    ax.yaxis.set_major_locator(\n",
    "        ticker.LinearLocator(axis_increment_nm))\n",
    "    ax.xaxis.set_major_locator(\n",
    "        ticker.LinearLocator(axis_increment_nm))\n",
    "ax.grid()\n",
    "sc = ax.scatter([], [])\n",
    "\n",
    "### Define animation function ###\n",
    "\n",
    "# animation function feeds a window of dataframe values into the graphing function at a time,\n",
    "# iterates over user specified range in dataframe with user specified tail length\n",
    "# color of animation is also specified here\n",
    "def animate(count):\n",
    "    sc.set_offsets(np.c_[coords.x.values[count-tail_length:count],coords.y.values[count-tail_length:count]])\n",
    "    cmap = plt.get_cmap(cmap_name)\n",
    "    norm = plt.Normalize(vmin=0, vmax=tail_length)\n",
    "    z = np.array(range(tail_length))\n",
    "    c = cmap(norm(z))\n",
    "    sc.set_color(c)\n",
    "    \n",
    "    # [UNDER DEVELOPMENT]animated colorbar still under development\n",
    "#     # Create or update colorbar\n",
    "#     if not hasattr(animate, \"cbar\"):\n",
    "#         # Create colorbar if it does not exist\n",
    "#         animate.cbar = plt.colorbar(sc, cmap = cmap_name)\n",
    "#         animate.cbar.set_label('Time (frames)')\n",
    "# #         animate.cbar.set_ticks(range(tail_length+1))\n",
    "#     else:\n",
    "#         # Update colorbar with current frame data\n",
    "#         animate.cbar.mappable.set_clim(vmin=0, vmax=tail_length)\n",
    "#         animate.cbar.draw_all()\n",
    "\n",
    "#     return sc\n",
    "    \n",
    "    #button_ax = plt.axes([.78, .87, .1, .07]) # creates an outline for a potential button\n",
    "ani = FuncAnimation(fig, animate, interval= frame_speed_ms, frames = len(coords)) #frames=len(df)\n",
    "            #ani.toggle(ax=button_ax)# potential button toggle for a potential button ;)\n",
    "plt.tight_layout()\n",
    "plt.show()\n",
    "# Display the animation as HTML\n",
    "HTML(ani.to_jshtml())"
   ]
  },
  {
   "cell_type": "markdown",
   "id": "de521a4d",
   "metadata": {},
   "source": [
    "## Ignore Below Cells unless you are jerry\n",
    "\n",
    "### Below cells are for loading test data and for troubleshooting\n"
   ]
  },
  {
   "cell_type": "code",
   "execution_count": null,
   "id": "61f6a22a",
   "metadata": {},
   "outputs": [],
   "source": [
    "# Block to insert OMM processes csv's\n",
    "\n",
    "# sys.path.append(r\"D:\\Jerry\\code\\OMMxDORA-tomerge\\test_set\")\n",
    "os.chdir(r\"D:\\Jerry\\code\\OMMxDORA-tomerge\\test_set\")\n",
    "exp_tag = \"RecBCD_placeholder_intensity\" # a tag that caries the name of the experiment\n",
    "file_name = \"RecBCD_placeholder_intensity.csv\" \n",
    "analysisName = None"
   ]
  },
  {
   "cell_type": "code",
   "execution_count": null,
   "id": "05f3ed26",
   "metadata": {},
   "outputs": [],
   "source": [
    "#Load already downsampled df\n",
    "down_sampled_df  = pd.read_csv(\"./test_set/small_csv_batch/trimmed_csv/OrbitBiotin500Hz100Lz_1k_00001_trimmed.csv\")"
   ]
  }
 ],
 "metadata": {
  "kernelspec": {
   "display_name": "Python 3 (ipykernel)",
   "language": "python",
   "name": "python3"
  },
  "language_info": {
   "codemirror_mode": {
    "name": "ipython",
    "version": 3
   },
   "file_extension": ".py",
   "mimetype": "text/x-python",
   "name": "python",
   "nbconvert_exporter": "python",
   "pygments_lexer": "ipython3",
   "version": "3.9.7"
  },
  "vscode": {
   "interpreter": {
    "hash": "66bfc363f8f306659ae3e266bceac94d22f72185114dbd9c913d56b1b78e8aa9"
   }
  }
 },
 "nbformat": 4,
 "nbformat_minor": 5
}
