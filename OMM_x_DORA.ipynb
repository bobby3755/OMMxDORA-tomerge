{
 "cells": [
  {
   "cell_type": "markdown",
   "id": "150688fe",
   "metadata": {},
   "source": [
    "## common troubleshooting solutions:\n",
    "\n",
    "1. make sure your file paths use these slashes / and end with a / \n",
    "\n",
    "3. are you in the righ file paths?\n",
    "4. is your info file the same name as your tif file?\n",
    "\n",
    "### NOTE: This is a 'cleaned' copy of the OMM_Analysis from the lab's github I made from running data from ONI using TIFF files. If you have something  else, this is not for you.   \n",
    "  \n",
    "    "
   ]
  },
  {
   "cell_type": "markdown",
   "id": "17d0e147",
   "metadata": {},
   "source": [
    "## OMM Analysis"
   ]
  },
  {
   "cell_type": "code",
   "execution_count": 4,
   "id": "534f7f3b",
   "metadata": {},
   "outputs": [
    {
     "name": "stdout",
     "output_type": "stream",
     "text": [
      "ffptif started at 2023-02-15 14:05:08 on file: D:/Jerry/DATA/localization_precision_dev_data/20230126_bases_forjerry/10hz_25laser-1_PC/pos_0/test\n",
      "x pixels: 428. y pixels: 684 r 64\n",
      "xcrop: 384. ycrop: 640 for bk size 64\n",
      "number sets: 1\n",
      "working on 0\n"
     ]
    },
    {
     "ename": "AttributeError",
     "evalue": "module 'numpy' has no attribute 'float'.\n`np.float` was a deprecated alias for the builtin `float`. To avoid this error in existing code, use `float` by itself. Doing this will not modify any behavior and is safe. If you specifically wanted the numpy scalar type, use `np.float64` here.\nThe aliases was originally deprecated in NumPy 1.20; for more details and guidance see the original release note at:\n    https://numpy.org/devdocs/release/1.20.0-notes.html#deprecations",
     "output_type": "error",
     "traceback": [
      "\u001b[1;31m---------------------------------------------------------------------------\u001b[0m",
      "\u001b[1;31mAttributeError\u001b[0m                            Traceback (most recent call last)",
      "Cell \u001b[1;32mIn[4], line 19\u001b[0m\n\u001b[0;32m     17\u001b[0m xmlFilename\u001b[39m=\u001b[39manalysisPath\u001b[39m+\u001b[39mxmlName\n\u001b[0;32m     18\u001b[0m filename\u001b[39m=\u001b[39manalysisPath\u001b[39m+\u001b[39manalysisName\n\u001b[1;32m---> 19\u001b[0m ffp_tif(filename,xmlFilename)\n",
      "File \u001b[1;32mD:\\Jerry/code/OMMxDORA-tomerge/sma\\ffptif.py:165\u001b[0m, in \u001b[0;36mffp_tif\u001b[1;34m(filename, xmlname)\u001b[0m\n\u001b[0;32m    160\u001b[0m medimg\u001b[39m=\u001b[39m\u001b[39m255.0\u001b[39m\u001b[39m*\u001b[39m(medimg\u001b[39m+\u001b[39mpar\u001b[39m.\u001b[39mdisp_off)\u001b[39m/\u001b[39mpar\u001b[39m.\u001b[39mdisp_fact \n\u001b[0;32m    161\u001b[0m \u001b[39m#requires scaling factors to be known ahead of time. tricky to pick out of the data -often nothing present at the begining\u001b[39;00m\n\u001b[0;32m    162\u001b[0m \n\u001b[0;32m    163\u001b[0m \n\u001b[0;32m    164\u001b[0m \u001b[39m#ready to go find peaks!\u001b[39;00m\n\u001b[1;32m--> 165\u001b[0m sliceresult \u001b[39m=\u001b[39m ffpslice\u001b[39m.\u001b[39;49mffp_slice(medimg,currset_st,par) \u001b[39m#these are all 'raw' results in medimg frame. Wait until the very end to map, if needed   This is the only piece that still requires Par\u001b[39;00m\n\u001b[0;32m    166\u001b[0m current \u001b[39m=\u001b[39m sliceresult[\u001b[39m0\u001b[39m]\n\u001b[0;32m    168\u001b[0m \u001b[39m#fixme: if number ch > 1, somewhere, output all channels with picked peaks circled\u001b[39;00m\n\u001b[0;32m    169\u001b[0m \u001b[39m#add current peaks to active unless they are already present\u001b[39;00m\n",
      "File \u001b[1;32mD:\\Jerry/code/OMMxDORA-tomerge/sma\\ffpslice.py:173\u001b[0m, in \u001b[0;36mffp_slice\u001b[1;34m(img, frnum, par)\u001b[0m\n\u001b[0;32m    171\u001b[0m \u001b[39mif\u001b[39;00m \u001b[39mnot\u001b[39;00m os\u001b[39m.\u001b[39mpath\u001b[39m.\u001b[39mexists(d):\n\u001b[0;32m    172\u001b[0m     os\u001b[39m.\u001b[39mmakedirs(d)\n\u001b[1;32m--> 173\u001b[0m np2ctimg\u001b[39m.\u001b[39;49msaveimg(img_disp,imname, colortable \u001b[39m=\u001b[39;49m ct, autoscale \u001b[39m=\u001b[39;49m \u001b[39mFalse\u001b[39;49;00m)\n\u001b[0;32m    175\u001b[0m \u001b[39mprint\u001b[39m( \u001b[39m\"\u001b[39m\u001b[39mframe: \u001b[39m\u001b[39m\"\u001b[39m \u001b[39m+\u001b[39m \u001b[39mstr\u001b[39m(frnum) \u001b[39m+\u001b[39m \u001b[39m\"\u001b[39m\u001b[39m at \u001b[39m\u001b[39m\"\u001b[39m \u001b[39m+\u001b[39m datetime\u001b[39m.\u001b[39mdatetime\u001b[39m.\u001b[39mnow()\u001b[39m.\u001b[39mstrftime(\u001b[39m'\u001b[39m\u001b[39m%\u001b[39m\u001b[39mY-\u001b[39m\u001b[39m%\u001b[39m\u001b[39mm-\u001b[39m\u001b[39m%d\u001b[39;00m\u001b[39m \u001b[39m\u001b[39m%\u001b[39m\u001b[39mH:\u001b[39m\u001b[39m%\u001b[39m\u001b[39mM:\u001b[39m\u001b[39m%\u001b[39m\u001b[39mS\u001b[39m\u001b[39m'\u001b[39m) \u001b[39m+\u001b[39m  \u001b[39m\"\u001b[39m\u001b[39m -- no_good = \u001b[39m\u001b[39m%d\u001b[39;00m\u001b[39m. no_keep = \u001b[39m\u001b[39m%d\u001b[39;00m\u001b[39m\"\u001b[39m \u001b[39m%\u001b[39m(no_good,no_keep))\n\u001b[0;32m    176\u001b[0m \u001b[39m#put good and keep into a list to return together\u001b[39;00m\n",
      "File \u001b[1;32md:\\Jerry\\code\\OMMxDORA-tomerge\\sma_lib\\np2ctimg.py:23\u001b[0m, in \u001b[0;36msaveimg\u001b[1;34m(data, filename, colortable, autoscale, xsize, ysize)\u001b[0m\n\u001b[0;32m     20\u001b[0m     b \u001b[39m=\u001b[39m colortable[\u001b[39m2\u001b[39m]\u001b[39m.\u001b[39mastype(numpy\u001b[39m.\u001b[39muint8)\n\u001b[0;32m     22\u001b[0m \u001b[39m# create the image\u001b[39;00m\n\u001b[1;32m---> 23\u001b[0m temp \u001b[39m=\u001b[39m data\u001b[39m.\u001b[39mcopy()\u001b[39m.\u001b[39mastype(numpy\u001b[39m.\u001b[39;49mfloat)\n\u001b[0;32m     24\u001b[0m \u001b[39mif\u001b[39;00m autoscale:\n\u001b[0;32m     25\u001b[0m     temp \u001b[39m=\u001b[39m temp \u001b[39m-\u001b[39m numpy\u001b[39m.\u001b[39mmin(temp)\n",
      "File \u001b[1;32mc:\\ProgramData\\Anaconda3\\envs\\JerryOrigami\\lib\\site-packages\\numpy\\__init__.py:305\u001b[0m, in \u001b[0;36m__getattr__\u001b[1;34m(attr)\u001b[0m\n\u001b[0;32m    300\u001b[0m     warnings\u001b[39m.\u001b[39mwarn(\n\u001b[0;32m    301\u001b[0m         \u001b[39mf\u001b[39m\u001b[39m\"\u001b[39m\u001b[39mIn the future `np.\u001b[39m\u001b[39m{\u001b[39;00mattr\u001b[39m}\u001b[39;00m\u001b[39m` will be defined as the \u001b[39m\u001b[39m\"\u001b[39m\n\u001b[0;32m    302\u001b[0m         \u001b[39m\"\u001b[39m\u001b[39mcorresponding NumPy scalar.\u001b[39m\u001b[39m\"\u001b[39m, \u001b[39mFutureWarning\u001b[39;00m, stacklevel\u001b[39m=\u001b[39m\u001b[39m2\u001b[39m)\n\u001b[0;32m    304\u001b[0m \u001b[39mif\u001b[39;00m attr \u001b[39min\u001b[39;00m __former_attrs__:\n\u001b[1;32m--> 305\u001b[0m     \u001b[39mraise\u001b[39;00m \u001b[39mAttributeError\u001b[39;00m(__former_attrs__[attr])\n\u001b[0;32m    307\u001b[0m \u001b[39m# Importing Tester requires importing all of UnitTest which is not a\u001b[39;00m\n\u001b[0;32m    308\u001b[0m \u001b[39m# cheap import Since it is mainly used in test suits, we lazy import it\u001b[39;00m\n\u001b[0;32m    309\u001b[0m \u001b[39m# here to save on the order of 10 ms of import time for most users\u001b[39;00m\n\u001b[0;32m    310\u001b[0m \u001b[39m#\u001b[39;00m\n\u001b[0;32m    311\u001b[0m \u001b[39m# The previous way Tester was imported also had a side effect of adding\u001b[39;00m\n\u001b[0;32m    312\u001b[0m \u001b[39m# the full `numpy.testing` namespace\u001b[39;00m\n\u001b[0;32m    313\u001b[0m \u001b[39mif\u001b[39;00m attr \u001b[39m==\u001b[39m \u001b[39m'\u001b[39m\u001b[39mtesting\u001b[39m\u001b[39m'\u001b[39m:\n",
      "\u001b[1;31mAttributeError\u001b[0m: module 'numpy' has no attribute 'float'.\n`np.float` was a deprecated alias for the builtin `float`. To avoid this error in existing code, use `float` by itself. Doing this will not modify any behavior and is safe. If you specifically wanted the numpy scalar type, use `np.float64` here.\nThe aliases was originally deprecated in NumPy 1.20; for more details and guidance see the original release note at:\n    https://numpy.org/devdocs/release/1.20.0-notes.html#deprecations"
     ]
    }
   ],
   "source": [
    "import sys\n",
    "import os\n",
    "import pandas as pd\n",
    "\n",
    "sys.path.append(r'D:/Jerry/code/OMMxDORA-tomerge/sma/') #if you are not amanda, change to your sma file path (found in zipfile downloaded from github)\n",
    "from DisplayHist import disp_hist\n",
    "from ffpdax import ffp_dax\n",
    "from ffptif import ffp_tif\n",
    "import DORA\n",
    "\n",
    "analysisPath=r'D:/Jerry/DATA/localization_precision_dev_data/20230126_bases_forjerry/10hz_25laser-1_PC/pos_0/'\n",
    "\n",
    "xmlName='ORBIT_Analysis_Settings'\n",
    "\n",
    "analysisName='test'\n",
    "exp_title = \"10hz_25laser-1_posXY0_channels_t0_posZ0_photonct\"\n",
    "xmlFilename=analysisPath+xmlName\n",
    "filename=analysisPath+analysisName\n",
    "ffp_tif(filename,xmlFilename)"
   ]
  },
  {
   "cell_type": "markdown",
   "id": "eb665ba6",
   "metadata": {},
   "source": [
    "# TRJ file to CSV"
   ]
  },
  {
   "cell_type": "code",
   "execution_count": null,
   "id": "77b7760b",
   "metadata": {},
   "outputs": [
    {
     "ename": "NameError",
     "evalue": "name 'filename' is not defined",
     "output_type": "error",
     "traceback": [
      "\u001b[1;31m---------------------------------------------------------------------------\u001b[0m",
      "\u001b[1;31mNameError\u001b[0m                                 Traceback (most recent call last)",
      "Cell \u001b[1;32mIn[10], line 2\u001b[0m\n\u001b[0;32m      1\u001b[0m \u001b[39mimport\u001b[39;00m \u001b[39mos\u001b[39;00m\n\u001b[1;32m----> 2\u001b[0m newpath \u001b[39m=\u001b[39m filename\u001b[39m+\u001b[39m\u001b[39m'\u001b[39m\u001b[39mtrcsv\u001b[39m\u001b[39m'\u001b[39m\n\u001b[0;32m      3\u001b[0m \u001b[39mif\u001b[39;00m \u001b[39mnot\u001b[39;00m os\u001b[39m.\u001b[39mpath\u001b[39m.\u001b[39mexists(newpath):\n\u001b[0;32m      4\u001b[0m     os\u001b[39m.\u001b[39mmakedirs(newpath)    \u001b[39m#makes a new folder in with same name as filename but ending in trcsv\u001b[39;00m\n",
      "\u001b[1;31mNameError\u001b[0m: name 'filename' is not defined"
     ]
    }
   ],
   "source": [
    "import os\n",
    "newpath = filename+'trcsv'\n",
    "if not os.path.exists(newpath):\n",
    "    os.makedirs(newpath)    #makes a new folder in with same name as filename but ending in trcsv\n",
    "    \n",
    "from tr2csv import tr_2csv\n",
    "tr_2csv(filename)           #Generates CSV file from .tr files      "
   ]
  },
  {
   "cell_type": "markdown",
   "id": "4be8d4a4",
   "metadata": {},
   "source": [
    "# 2D Histogram\n",
    "\n"
   ]
  },
  {
   "cell_type": "code",
   "execution_count": null,
   "id": "5fb6b420",
   "metadata": {
    "scrolled": true
   },
   "outputs": [],
   "source": [
    "import numpy as np\n",
    "\n",
    "histInfoName=filename+'trdir/histpar' # opens the infromation file\n",
    "histInfoFile = open(histInfoName+'.info','rb')\n",
    "histInfo=np.fromfile(histInfoFile,dtype='int32')\n",
    "histInfoFile.close()\n",
    "print(\"Number of peaks\")\n",
    "print(histInfo[3])\n",
    "histInfo[3]"
   ]
  },
  {
   "cell_type": "code",
   "execution_count": null,
   "id": "bc6b5fb5",
   "metadata": {
    "scrolled": true
   },
   "outputs": [],
   "source": [
    "#display settings for tracjectories\n",
    "histPerCol=5\n",
    "histPerRow=5\n",
    "\n",
    "print(\"Displaying\")\n",
    "print(histPerRow*histPerCol)"
   ]
  },
  {
   "cell_type": "code",
   "execution_count": null,
   "id": "b4a3f5b3",
   "metadata": {
    "scrolled": true
   },
   "outputs": [],
   "source": [
    "#when you run this, you should get a pop up window. check your windows bar at the bottom of the deskstop  \n",
    "import numpy as np\n",
    "from PIL import Image\n",
    "import argparse\n",
    "import cv2\n",
    "\n",
    "\n",
    "[refptnp,refsc,refcol,sum_of_rows, out]=disp_hist(filename,histPerCol,histPerRow) #change for dax\n",
    "print('pk, t1 ,t2')\n",
    "print(out)\n"
   ]
  },
  {
   "cell_type": "code",
   "execution_count": null,
   "id": "8a388159",
   "metadata": {},
   "outputs": [],
   "source": [
    "#Remeber python indexs from 0 so if you want your first selection to be the peak you analyze pick 0\n",
    "#also the peaks go in paired sets, the first two selections will be \"peak 0\"\n",
    "\n",
    "chosenpk=8\n",
    "\n",
    "#pk=str(out[chosenpk*2,0]).zfill(5)\n",
    "#frStart=out[chosenpk*2,1]\n",
    "#frEnd=out[((chosenpk*2)+1),2] \n",
    "#print(\"Peak: \"+pk)\n",
    "#print(\"Start: \"+str(frStart))\n",
    "#print(\"End: \"+str(frEnd))\n",
    "\n",
    "pk=str(16).zfill(5)\n",
    "csvpath=filename+'trcsv/'\n",
    "csvnum=csvpath+pk+'.csv'\n",
    "print(csvnum)"
   ]
  },
  {
   "cell_type": "markdown",
   "id": "514e28d6",
   "metadata": {},
   "source": [
    "# DORA Graphing"
   ]
  },
  {
   "attachments": {},
   "cell_type": "markdown",
   "id": "2613e730",
   "metadata": {},
   "source": [
    "### Step 1: Input graphing parameters"
   ]
  },
  {
   "cell_type": "code",
   "execution_count": null,
   "id": "089fdd81",
   "metadata": {},
   "outputs": [],
   "source": [
    "#universal parameters\n",
    "exp_tag = exp_title + pk # a tag that caries the name of the experiment\n",
    "file_name = csvnum  \n",
    "pixel_size = 117  # in nanometers\n",
    "time_step = 100  # miliseconds per frame in trajectory movie\n",
    "frame_start = 0  # enter 0 to start from beginning of dataset\n",
    "frame_end = 100  # enter -1 to end at the last value of the data set\n",
    "cmap = \"spring_r\" # enter a color map string from this https://matplotlib.org/2.0.2/examples/color/colormaps_reference.html\n",
    "first_zero_end = 'no'  # yes to cut off all values after first 0,0 = x,y\n",
    "graph_centers = \"yes\" #'yes' or 'no' to graphing the centers of the data. \n",
    "save_plot = 'yes' \n",
    "\n",
    "#downsampling parameters\n",
    "bin_size = 20  # bin size for downsample/filter processing\n",
    "processing = \"none\"  # enter downsample, moving average, or none\n",
    "\n",
    "#Plot Parameters\n",
    "\n",
    "#Which Graph?\n",
    "plot_type = \"interactive\"\n",
    "#plot_type = \"2D\"\n",
    "# Graphing options:\n",
    "    # Trajectory Maps:\n",
    "    # 2D: Colorful 2D visulization of the rotor from above\n",
    "    # 3D: 2D plot but time is an axis\n",
    "\n",
    "    # Grid plot\n",
    "    # grid: a grid of little snippets of the data\n",
    "\n",
    "    # Angular Analysis:\n",
    "\n",
    "    #         By Jerry\n",
    "    # radius_filter: Demarcate the excluded data points that will be eliminated from calculations\n",
    "    # find_excluded_angle: Indicate excluded angles within angular_continuous by Jerry\n",
    "    # angular_continuous_filtered: Angular Continuous recalculated with excluded points filtered. Excluded points skips indicated.\n",
    "    # basal3: Graphs tailored for the basal graph analysis 3/14/2022\n",
    "    # Angular Continuous with a downsampled curve as well. still has bugs with excluded type labelling\n",
    "\n",
    "    #         By Claire:  [NOT DONE]\n",
    "    # angular: angle vs time, but it's not cummulative and resets at 360 to 0 (Claire)\n",
    "    # angular_continuous: Claire's Calculation of a cummulative angle\n",
    "    # find_excluded_angle_CR: Indicate excluded angles within angular_continuous by Claire's calculations\n",
    "\n",
    "    # Animation   [NOT DONE]\n",
    "    # interactive: Interactive graph\n",
    "    # animated: animated trajectory in notebook\n",
    "    # HTML: Animated trajectory in a new window. May run better\n",
    "\n",
    "##### Trajectory Maps Parameters:\n",
    "\n",
    "# \"yes\" enables center display of center coordinates if 2D or Find excluded angle\n",
    "display_center = \"no\"\n",
    "\n",
    "#Labels\n",
    "x_axis_label = \"x (nm)\"\n",
    "y_axis_label = \"y (nm)\"\n",
    "z_axis_label = \"Time (ms)\"  \n",
    "unit = \"nm\"  # enter pixel or nm\n",
    "\n",
    "#Formatting parameters\n",
    "pixel_min = -0.75  # setting min/max axis range (pixel)\n",
    "pixel_max = 0.75\n",
    "\n",
    "# change axis increments for nicely fitting tick marks (pixel)\n",
    "axis_increment_pixel = 7\n",
    "# change axis increments for nicely fitting tick marks (nm)\n",
    "axis_increment_nm = 7\n",
    "nm_min = -150  # setting min/max axis range (nm)\n",
    "nm_max = 150\n",
    "#Do you want to save your plot?\n",
    "save_plot = 'yes'\n",
    "\n",
    "#########Angle Versus Time (AVT or avt) Graphs\n",
    "\n",
    "#       Formatting parameters for 'radius filter plot'\n",
    "rad_filter_type_lower = 'nm'  # enter 'zscore' or 'nm' for choice\n",
    "rad_filter_type_upper = 'zscore'  # enter 'zscore' or 'nm' for choice\n",
    "z_up = 3  # enter an upper bound for z score.\n",
    "z_down = -3  # enter a lower bound for z score\n",
    "dist_low = 30  # lower bound for ABS of Radius filter\n",
    "dist_high = 70  # upper bound for ABS of Radius filter\n",
    "\n",
    "#       Formatting parameters for 'angular_continuous_filtered' plot\n",
    "# enter 'line' or 'scatter' for a line graph or a scatter plot. Line plot makes up points when hovered\n",
    "graph_style = 'line'\n",
    "\n",
    "\n",
    "#Formatting parameters 'grid' plot\n",
    "frames_per_plot = 20  # refers to grid plot\n",
    "columns = 7  # columns of plots (grid plot)\n",
    "fig_size_x = 40 # adjust display parameters for graphs to fit nicely, mostly used for 'grid' plot\n",
    "fig_size_y  = 40 # adjust display parameters for graphs to fit nicely, mostly used for 'grid' plot\n",
    "\n",
    "#Formatting parameters 'animation' plot\n",
    "frame_speed = 20  # for animation only (ms)\n",
    "tail_length = 50  # for animation only\n",
    "\n",
    "#DORA.table parameters: \n",
    "save_table = 'no' #saves filtered table if \"yes\"\n",
    "\n",
    "#DORA.collect_variable parameter package\n",
    "###DataTable = avt_good cannot have bc it has not been defined yet\n",
    "col = \"Delta Angle\"\n",
    "sample_conditions= analysisName\n",
    "name_saving_folder = \"Data Tables\""
   ]
  },
  {
   "attachments": {},
   "cell_type": "markdown",
   "id": "4cb35d7d",
   "metadata": {},
   "source": [
    "### Step 2: Find Center of Peak"
   ]
  },
  {
   "cell_type": "code",
   "execution_count": null,
   "id": "81a33327",
   "metadata": {},
   "outputs": [],
   "source": [
    "initial_parameters = [file_name, time_step, frame_start, frame_end, cmap, exp_tag, first_zero_end, graph_centers,save_plot]\n",
    "center, data, ind_invalid_reading, data_back, my_rad_estimate = DORA.find_center(*initial_parameters)"
   ]
  },
  {
   "cell_type": "markdown",
   "id": "ce4e0f07",
   "metadata": {},
   "source": [
    "### Step 3: Downsample Data"
   ]
  },
  {
   "cell_type": "code",
   "execution_count": null,
   "id": "15a5d2ce",
   "metadata": {},
   "outputs": [],
   "source": [
    "downsample_parameters = [bin_size, processing, data, center, time_step, pixel_size, frame_start, frame_end]\n",
    "down_sampled_df = DORA.downsample(*downsample_parameters)"
   ]
  },
  {
   "attachments": {},
   "cell_type": "markdown",
   "id": "34da267d",
   "metadata": {},
   "source": [
    "NOTE: If you have downsampled data already, please input file name and load file here:"
   ]
  },
  {
   "cell_type": "code",
   "execution_count": null,
   "id": "4c18eb41",
   "metadata": {},
   "outputs": [],
   "source": [
    "# Input folder where file is saved. \n",
    "down_sampled_data_folder = r\"C:\\Users\\jerry\\Desktop\\Research\\Kosuri\\Coding\\OMMxDORA-tomerge\\test_set\\small_csv_batch\\trimmed_csv\"\n",
    "# Input name of file\n",
    "down_sampled_csv = \"OrbitBiotin500Hz100Lz_1k_00001_trimmed.csv\"\n",
    "file_name = down_sampled_csv # override above file name above with this file name \n",
    "\n",
    "# Append saving file to saving folder path\n",
    "down_sampled_data_file_path = os.path.join(down_sampled_data_folder,down_sampled_csv)\n",
    "# read in file and redefine the new file as the new down_sampled_df\n",
    "down_sampled_df = pd.read_csv(down_sampled_data_file_path)\n",
    "\n"
   ]
  },
  {
   "cell_type": "markdown",
   "id": "bd4c67ae",
   "metadata": {},
   "source": [
    "### Step 4: Graph Data"
   ]
  },
  {
   "cell_type": "code",
   "execution_count": null,
   "id": "b73e46fa",
   "metadata": {
    "scrolled": false
   },
   "outputs": [
    {
     "ename": "NameError",
     "evalue": "name 'plot_type' is not defined",
     "output_type": "error",
     "traceback": [
      "\u001b[1;31m---------------------------------------------------------------------------\u001b[0m",
      "\u001b[1;31mNameError\u001b[0m                                 Traceback (most recent call last)",
      "Cell \u001b[1;32mIn [19], line 17\u001b[0m\n\u001b[0;32m     11\u001b[0m animations \u001b[39m=\u001b[39m [\u001b[39m\"\u001b[39m\u001b[39minteractive\u001b[39m\u001b[39m\"\u001b[39m, \u001b[39m\"\u001b[39m\u001b[39manimated\u001b[39m\u001b[39m\"\u001b[39m, \u001b[39m\"\u001b[39m\u001b[39mHTML\u001b[39m\u001b[39m\"\u001b[39m]\n\u001b[0;32m     16\u001b[0m \u001b[39m#Trajectory map parameters:\u001b[39;00m\n\u001b[1;32m---> 17\u001b[0m tajectory_map_parameters \u001b[39m=\u001b[39m [file_name, down_sampled_df, plot_type, display_center, exp_tag, x_axis_label, y_axis_label, z_axis_label, unit, \n\u001b[0;32m     18\u001b[0m pixel_min, pixel_max, axis_increment_nm, axis_increment_pixel, nm_min, nm_max, save_plot, frame_start, frame_end, time_step,cmap,exp_tag]\n\u001b[0;32m     20\u001b[0m \u001b[39m#Angle Versus Time (AVT or avt) parameters:\u001b[39;00m\n\u001b[0;32m     21\u001b[0m avt_parameters \u001b[39m=\u001b[39m [file_name, down_sampled_df, plot_type, display_center, ind_invalid_reading, rad_filter_type_upper,\n\u001b[0;32m     22\u001b[0m                   rad_filter_type_lower, z_up, z_down, dist_high, dist_low, graph_style, bin_size, frame_start, frame_end,\n\u001b[0;32m     23\u001b[0m                   display_center, exp_tag, x_axis_label, y_axis_label, z_axis_label, unit, pixel_min, pixel_max,\n\u001b[0;32m     24\u001b[0m                   axis_increment_nm, axis_increment_pixel, nm_min, nm_max, save_plot, data_back, cmap, exp_tag] \n",
      "\u001b[1;31mNameError\u001b[0m: name 'plot_type' is not defined"
     ]
    }
   ],
   "source": [
    "#Graph Groupings:\n",
    "# create a list of the acceptable groupings for the trajectory maps\n",
    "trajectory_map = [\"2D\", \"3D\"]\n",
    "\n",
    "# create a list of the acceptable groupings for the Angle Time grouping\n",
    "AngleTime = [\"radius_filter\", \"find_err_angle\", \"angular_continuous_filtered\",\n",
    "                \"basal3\", \"angular\", \"angular_continuous\", \"find_err_angle_CR\"]\n",
    "\n",
    "# create a list of the acceptable groupings for the Animations Grouping\n",
    "\n",
    "animations = [\"interactive\", \"animated\", \"HTML\"]\n",
    "\n",
    "\n",
    "\n",
    "\n",
    "#Trajectory map parameters:\n",
    "tajectory_map_parameters = [file_name, down_sampled_df, plot_type, display_center, exp_tag, x_axis_label, y_axis_label, z_axis_label, unit, \n",
    "pixel_min, pixel_max, axis_increment_nm, axis_increment_pixel, nm_min, nm_max, save_plot, frame_start, frame_end, time_step,cmap,exp_tag]\n",
    "\n",
    "#Angle Versus Time (AVT or avt) parameters:\n",
    "avt_parameters = [file_name, down_sampled_df, plot_type, display_center, ind_invalid_reading, rad_filter_type_upper,\n",
    "                  rad_filter_type_lower, z_up, z_down, dist_high, dist_low, graph_style, bin_size, frame_start, frame_end,\n",
    "                  display_center, exp_tag, x_axis_label, y_axis_label, z_axis_label, unit, pixel_min, pixel_max,\n",
    "                  axis_increment_nm, axis_increment_pixel, nm_min, nm_max, save_plot, data_back, cmap, exp_tag] \n",
    "\n",
    "#Animated Parameters\n",
    "animated_parameters = [file_name, down_sampled_df, plot_type, display_center, ind_invalid_reading, rad_filter_type_upper,\n",
    "                  rad_filter_type_lower, z_up, z_down, dist_high, dist_low, graph_style, bin_size, frame_start, frame_end,\n",
    "                  display_center, exp_tag, x_axis_label, y_axis_label, z_axis_label, unit, pixel_min, pixel_max,\n",
    "                  axis_increment_nm, axis_increment_pixel, nm_min, nm_max, save_plot, data_back, cmap, exp_tag, frame_speed, tail_length] \n",
    "\n",
    "#Grid Parameters\n",
    "grid_parameters = [file_name, down_sampled_df, plot_type, display_center, exp_tag, x_axis_label, y_axis_label, z_axis_label, unit, \n",
    "pixel_min, pixel_max, axis_increment_nm, axis_increment_pixel, nm_min, nm_max, save_plot, frame_start, frame_end, time_step,cmap,exp_tag, \n",
    "frames_per_plot, columns, fig_size_x, fig_size_y]\n",
    "\n",
    "\n",
    "# #DORA.graph(plot_type,*relevant_parameters)\n",
    "\n",
    "if plot_type == \"2D\" or plot_type == \"3D\":\n",
    "    DORA.graph(plot_type,*tajectory_map_parameters)\n",
    "if plot_type in animations:\n",
    "    %matplotlib notebook\n",
    "    DORA.graph(plot_type,*animated_parameters)\n",
    "if plot_type == \"grid\":\n",
    "    DORA.graph(plot_type, *grid_parameters)\n",
    "if plot_type in AngleTime:\n",
    "    DORA.graph(plot_type,*avt_parameters)"
   ]
  },
  {
   "attachments": {},
   "cell_type": "markdown",
   "id": "1d1616b8",
   "metadata": {},
   "source": [
    "### Step 5: Animate Plots"
   ]
  },
  {
   "attachments": {},
   "cell_type": "markdown",
   "id": "0f4a0646",
   "metadata": {},
   "source": [
    "Choose animation plot parameters\n"
   ]
  },
  {
   "cell_type": "code",
   "execution_count": 2,
   "id": "14d4b52f",
   "metadata": {},
   "outputs": [],
   "source": [
    "cmap_name = \"plasma_r\"\n",
    "tail_length = 50\n",
    "frame_speed_ms = 20"
   ]
  },
  {
   "attachments": {},
   "cell_type": "markdown",
   "id": "6d975726",
   "metadata": {},
   "source": [
    "Imports for the code"
   ]
  },
  {
   "cell_type": "code",
   "execution_count": 1,
   "id": "1940e3aa",
   "metadata": {},
   "outputs": [],
   "source": [
    "import matplotlib.pyplot as plt\n",
    "import numpy as np\n",
    "from matplotlib.animation import FuncAnimation\n",
    "from IPython.display import HTML"
   ]
  },
  {
   "attachments": {},
   "cell_type": "markdown",
   "id": "8cb13bb9",
   "metadata": {},
   "source": [
    "Allocate X and Y data into dataframe called coords"
   ]
  },
  {
   "cell_type": "code",
   "execution_count": null,
   "id": "cb743458",
   "metadata": {},
   "outputs": [],
   "source": [
    "# import matplotlib\n",
    "import matplotlib.pyplot as plt\n",
    "# allows for animation to animate\n",
    "%matplotlib notebook\n",
    "\n",
    "# establish coordinate dataframe\n",
    "coords = down_sampled_df[[\"X displacement (nm)\", \"Y displacement (nm)\"]].copy()\n",
    "coords = coords.rename(columns={\"X displacement (nm)\": \"x\", \"Y displacement (nm)\": \"y\"})\n",
    "#truncate to onyl use the first 1000 frames for shorter processsing\n",
    "coords = coords.head(100)\n",
    "coords\n"
   ]
  },
  {
   "attachments": {},
   "cell_type": "markdown",
   "id": "b3bd3f5d",
   "metadata": {},
   "source": [
    "Make an initial graph"
   ]
  },
  {
   "cell_type": "code",
   "execution_count": null,
   "id": "e6d2e4c7",
   "metadata": {},
   "outputs": [],
   "source": [
    "fig, ax = plt.subplots(1,1,figsize = (5,5))\n",
    "\n",
    "ax.set_title(\"OrbitBiotin500Hz100Lz_1k_00001\", fontweight = 'bold', fontsize = 16)\n",
    "ax.set_xlabel(\"X (nm)\",fontweight = 'bold', fontsize = 12)\n",
    "ax.set_ylabel(\"Y (nm)\",fontweight = 'bold', fontsize = 12)\n",
    "ax.set_xlim([-60,60])\n",
    "ax.set_ylim([-60,60])\n",
    "ax.grid()\n",
    "sc = ax.scatter([], [])"
   ]
  },
  {
   "cell_type": "markdown",
   "id": "65f4cb65",
   "metadata": {},
   "source": [
    "Define Animation Function"
   ]
  },
  {
   "cell_type": "code",
   "execution_count": null,
   "id": "42cc1c16",
   "metadata": {},
   "outputs": [],
   "source": [
    "# animation function feeds a window of dataframe values into the graphing function at a time,\n",
    "# iterates over user specified range in dataframe with user specified tail length\n",
    "# color of animation is also specified here\n",
    "def animate(count):\n",
    "    sc.set_offsets(np.c_[coords.x.values[count-tail_length:count],coords.y.values[count-tail_length:count]])\n",
    "    cmap = plt.get_cmap(cmap_name)\n",
    "    norm = plt.Normalize(vmin=0, vmax=tail_length)\n",
    "    z = np.array(range(tail_length))\n",
    "    c = cmap(norm(z))\n",
    "    sc.set_color(c)\n",
    "    \n",
    "    # [UNDER DEVELOPMENT]animated colorbar still under development\n",
    "#     # Create or update colorbar\n",
    "#     if not hasattr(animate, \"cbar\"):\n",
    "#         # Create colorbar if it does not exist\n",
    "#         animate.cbar = plt.colorbar(sc, cmap = cmap_name)\n",
    "#         animate.cbar.set_label('Time (frames)')\n",
    "# #         animate.cbar.set_ticks(range(tail_length+1))\n",
    "#     else:\n",
    "#         # Update colorbar with current frame data\n",
    "#         animate.cbar.mappable.set_clim(vmin=0, vmax=tail_length)\n",
    "#         animate.cbar.draw_all()\n",
    "\n",
    "#     return sc\n",
    "    \n",
    "    #button_ax = plt.axes([.78, .87, .1, .07]) # creates an outline for a potential button\n",
    "ani = FuncAnimation(fig, animate, interval= frame_speed_ms, frames = len(coords)) #frames=len(df)\n",
    "            #ani.toggle(ax=button_ax)# potential button toggle for a potential button ;)\n",
    "plt.tight_layout()\n",
    "plt.show()"
   ]
  },
  {
   "cell_type": "code",
   "execution_count": null,
   "id": "37995f6d",
   "metadata": {},
   "outputs": [],
   "source": [
    "# Display the animation as HTML\n",
    "HTML(ani.to_jshtml())"
   ]
  }
 ],
 "metadata": {
  "kernelspec": {
   "display_name": "JerryOrigami",
   "language": "python",
   "name": "python3"
  },
  "language_info": {
   "codemirror_mode": {
    "name": "ipython",
    "version": 3
   },
   "file_extension": ".py",
   "mimetype": "text/x-python",
   "name": "python",
   "nbconvert_exporter": "python",
   "pygments_lexer": "ipython3",
   "version": "3.9.16"
  },
  "vscode": {
   "interpreter": {
    "hash": "afea964d7448d7e37a49ecb3f433aa9408b0774633804fb69785525466cf3325"
   }
  }
 },
 "nbformat": 4,
 "nbformat_minor": 5
}
