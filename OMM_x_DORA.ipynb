{
 "cells": [
  {
   "cell_type": "markdown",
   "id": "150688fe",
   "metadata": {},
   "source": [
    "## common troubleshooting solutions:\n",
    "\n",
    "1. make sure your file paths use these slashes / and end with a / \n",
    "\n",
    "3. are you in the righ file paths?\n",
    "4. is your info file the same name as your tif file?\n",
    "\n",
    "### NOTE: This is a 'cleaned' copy of the OMM_Analysis from the lab's github I made from running data from ONI using TIFF files. If you have something  else, this is not for you.   \n",
    "  \n",
    "    "
   ]
  },
  {
   "cell_type": "markdown",
   "id": "17d0e147",
   "metadata": {},
   "source": [
    "## OMM Analysis"
   ]
  },
  {
   "cell_type": "code",
   "execution_count": 8,
   "id": "f6e02234",
   "metadata": {
    "scrolled": false
   },
   "outputs": [
    {
     "ename": "ModuleNotFoundError",
     "evalue": "No module named 'cv2'",
     "output_type": "error",
     "traceback": [
      "\u001b[1;31m---------------------------------------------------------------------------\u001b[0m",
      "\u001b[1;31mModuleNotFoundError\u001b[0m                       Traceback (most recent call last)",
      "Cell \u001b[1;32mIn [8], line 4\u001b[0m\n\u001b[0;32m      1\u001b[0m \u001b[39mimport\u001b[39;00m \u001b[39msys\u001b[39;00m\n\u001b[0;32m      3\u001b[0m sys\u001b[39m.\u001b[39mpath\u001b[39m.\u001b[39mappend(\u001b[39mr\u001b[39m\u001b[39m'\u001b[39m\u001b[39mC:\u001b[39m\u001b[39m\\\u001b[39m\u001b[39mUsers\u001b[39m\u001b[39m\\\u001b[39m\u001b[39mjerry\u001b[39m\u001b[39m\\\u001b[39m\u001b[39mDesktop\u001b[39m\u001b[39m\\\u001b[39m\u001b[39mResearch\u001b[39m\u001b[39m\\\u001b[39m\u001b[39mKosuri\u001b[39m\u001b[39m\\\u001b[39m\u001b[39mCoding\u001b[39m\u001b[39m\\\u001b[39m\u001b[39mOMMxDORA-tomerge\u001b[39m\u001b[39m\\\u001b[39m\u001b[39msma\u001b[39m\u001b[39m'\u001b[39m) \u001b[39m#if you are not amanda, change to your sma file path (found in zipfile downloaded from github)\u001b[39;00m\n\u001b[1;32m----> 4\u001b[0m \u001b[39mfrom\u001b[39;00m \u001b[39mDisplayHist\u001b[39;00m \u001b[39mimport\u001b[39;00m disp_hist\n\u001b[0;32m      5\u001b[0m \u001b[39mfrom\u001b[39;00m \u001b[39mffpdax\u001b[39;00m \u001b[39mimport\u001b[39;00m ffp_dax\n\u001b[0;32m      6\u001b[0m \u001b[39mfrom\u001b[39;00m \u001b[39mffptif\u001b[39;00m \u001b[39mimport\u001b[39;00m ffp_tif\n",
      "File \u001b[1;32m~\\Desktop\\Research\\Kosuri\\Coding\\OMMxDORA-tomerge\\sma\\DisplayHist.py:11\u001b[0m\n\u001b[0;32m      9\u001b[0m \u001b[39mfrom\u001b[39;00m \u001b[39mPIL\u001b[39;00m \u001b[39mimport\u001b[39;00m Image\n\u001b[0;32m     10\u001b[0m \u001b[39mimport\u001b[39;00m \u001b[39margparse\u001b[39;00m\n\u001b[1;32m---> 11\u001b[0m \u001b[39mimport\u001b[39;00m \u001b[39mcv2\u001b[39;00m\n\u001b[0;32m     13\u001b[0m \u001b[39mdef\u001b[39;00m \u001b[39mdisp_hist\u001b[39m(file,perCol,perRow):\n\u001b[0;32m     14\u001b[0m \n\u001b[0;32m     15\u001b[0m     \n\u001b[0;32m     16\u001b[0m     \u001b[39m#Get file paths\u001b[39;00m\n\u001b[0;32m     17\u001b[0m     sets\u001b[39m=\u001b[39mfile\u001b[39m+\u001b[39m\u001b[39m'\u001b[39m\u001b[39mtrdir/histsets\u001b[39m\u001b[39m'\u001b[39m\n",
      "\u001b[1;31mModuleNotFoundError\u001b[0m: No module named 'cv2'"
     ]
    }
   ],
   "source": [
    "import sys\n",
    "import pandas as pd\n",
    "import os\n",
    "\n",
    "sys.path.append(r'C:\\Users\\jerry\\Desktop\\Research\\Kosuri\\Coding\\OMMxDORA-tomerge\\sma') #if you are not amanda, change to your sma file path (found in zipfile downloaded from github)\n",
    "from DisplayHist import disp_hist\n",
    "from ffpdax import ffp_dax\n",
    "from ffptif import ffp_tif\n",
    "import DORA\n",
    "\n",
    "\n",
    "analysisPath='D:/Ryan/Data/Exp9/'\n",
    "\n",
    "xmlName='ORBIT_Analysis_Settings'\n",
    "\n",
    "analysisName='Proflavine_BaseD2ORBIT_Exp9_IB_10hz_20laser_5uM_on_posXY0_channels_t0_posZ0'\n",
    "exp_title = \"Exp 9 - 5uM on - Peak \"\n",
    "xmlFilename=analysisPath+xmlName\n",
    "filename=analysisPath+analysisName\n",
    "#ffp_tif(filename,xmlFilename)"
   ]
  },
  {
   "cell_type": "markdown",
   "id": "eb665ba6",
   "metadata": {},
   "source": [
    "# TRJ file to CSV"
   ]
  },
  {
   "cell_type": "code",
   "execution_count": null,
   "id": "77b7760b",
   "metadata": {},
   "outputs": [],
   "source": [
    "import os\n",
    "newpath = filename+'trcsv'\n",
    "if not os.path.exists(newpath):\n",
    "    os.makedirs(newpath)    #makes a new folder in with same name as filename but ending in trcsv\n",
    "    \n",
    "from tr2csv import tr_2csv\n",
    "tr_2csv(filename)           #Generates CSV file from .tr files      "
   ]
  },
  {
   "cell_type": "markdown",
   "id": "4be8d4a4",
   "metadata": {},
   "source": [
    "# 2D Histogram\n",
    "\n"
   ]
  },
  {
   "cell_type": "code",
   "execution_count": null,
   "id": "5fb6b420",
   "metadata": {
    "scrolled": true
   },
   "outputs": [],
   "source": [
    "import numpy as np\n",
    "\n",
    "histInfoName=filename+'trdir/histpar' # opens the infromation file\n",
    "histInfoFile = open(histInfoName+'.info','rb')\n",
    "histInfo=np.fromfile(histInfoFile,dtype='int32')\n",
    "histInfoFile.close()\n",
    "print(\"Number of peaks\")\n",
    "print(histInfo[3])\n",
    "histInfo[3]"
   ]
  },
  {
   "cell_type": "code",
   "execution_count": null,
   "id": "bc6b5fb5",
   "metadata": {
    "scrolled": true
   },
   "outputs": [],
   "source": [
    "#display settings for tracjectories\n",
    "histPerCol=5\n",
    "histPerRow=5\n",
    "\n",
    "print(\"Displaying\")\n",
    "print(histPerRow*histPerCol)"
   ]
  },
  {
   "cell_type": "code",
   "execution_count": null,
   "id": "b4a3f5b3",
   "metadata": {
    "scrolled": true
   },
   "outputs": [],
   "source": [
    "#when you run this, you should get a pop up window. check your windows bar at the bottom of the deskstop  \n",
    "import numpy as np\n",
    "from PIL import Image\n",
    "import argparse\n",
    "import cv2\n",
    "\n",
    "\n",
    "[refptnp,refsc,refcol,sum_of_rows, out]=disp_hist(filename,histPerCol,histPerRow) #change for dax\n",
    "print('pk, t1 ,t2')\n",
    "print(out)\n"
   ]
  },
  {
   "cell_type": "code",
   "execution_count": null,
   "id": "8a388159",
   "metadata": {},
   "outputs": [],
   "source": [
    "#Remeber python indexs from 0 so if you want your first selection to be the peak you analyze pick 0\n",
    "#also the peaks go in paired sets, the first two selections will be \"peak 0\"\n",
    "\n",
    "chosenpk=8\n",
    "\n",
    "#pk=str(out[chosenpk*2,0]).zfill(5)\n",
    "#frStart=out[chosenpk*2,1]\n",
    "#frEnd=out[((chosenpk*2)+1),2] \n",
    "#print(\"Peak: \"+pk)\n",
    "#print(\"Start: \"+str(frStart))\n",
    "#print(\"End: \"+str(frEnd))\n",
    "\n",
    "pk=str(16).zfill(5)\n",
    "csvpath=filename+'trcsv/'\n",
    "csvnum=csvpath+pk+'.csv'\n",
    "print(csvnum)"
   ]
  },
  {
   "cell_type": "markdown",
   "id": "514e28d6",
   "metadata": {},
   "source": [
    "# DORA Graphing"
   ]
  },
  {
   "attachments": {},
   "cell_type": "markdown",
   "id": "2613e730",
   "metadata": {},
   "source": [
    "### Step 1: Input graphing parameters"
   ]
  },
  {
   "cell_type": "code",
   "execution_count": null,
   "id": "089fdd81",
   "metadata": {},
   "outputs": [],
   "source": [
    "#universal parameters\n",
    "exp_tag = exp_title + pk # a tag that caries the name of the experiment\n",
    "file_name = csvnum  \n",
    "pixel_size = 117  # in nanometers\n",
    "time_step = 100  # miliseconds per frame in trajectory movie\n",
    "frame_start = 0  # enter 0 to start from beginning of dataset\n",
    "frame_end = 100  # enter -1 to end at the last value of the data set\n",
    "cmap = \"spring_r\" # enter a color map string from this https://matplotlib.org/2.0.2/examples/color/colormaps_reference.html\n",
    "first_zero_end = 'no'  # yes to cut off all values after first 0,0 = x,y\n",
    "graph_centers = \"yes\" #'yes' or 'no' to graphing the centers of the data. \n",
    "save_plot = 'yes' \n",
    "\n",
    "#downsampling parameters\n",
    "bin_size = 20  # bin size for downsample/filter processing\n",
    "processing = \"none\"  # enter downsample, moving average, or none\n",
    "\n",
    "#Plot Parameters\n",
    "\n",
    "#Which Graph?\n",
    "plot_type = \"interactive\"\n",
    "#plot_type = \"2D\"\n",
    "# Graphing options:\n",
    "    # Trajectory Maps:\n",
    "    # 2D: Colorful 2D visulization of the rotor from above\n",
    "    # 3D: 2D plot but time is an axis\n",
    "\n",
    "    # Grid plot\n",
    "    # grid: a grid of little snippets of the data\n",
    "\n",
    "    # Angular Analysis:\n",
    "\n",
    "    #         By Jerry\n",
    "    # radius_filter: Demarcate the excluded data points that will be eliminated from calculations\n",
    "    # find_excluded_angle: Indicate excluded angles within angular_continuous by Jerry\n",
    "    # angular_continuous_filtered: Angular Continuous recalculated with excluded points filtered. Excluded points skips indicated.\n",
    "    # basal3: Graphs tailored for the basal graph analysis 3/14/2022\n",
    "    # Angular Continuous with a downsampled curve as well. still has bugs with excluded type labelling\n",
    "\n",
    "    #         By Claire:  [NOT DONE]\n",
    "    # angular: angle vs time, but it's not cummulative and resets at 360 to 0 (Claire)\n",
    "    # angular_continuous: Claire's Calculation of a cummulative angle\n",
    "    # find_excluded_angle_CR: Indicate excluded angles within angular_continuous by Claire's calculations\n",
    "\n",
    "    # Animation   [NOT DONE]\n",
    "    # interactive: Interactive graph\n",
    "    # animated: animated trajectory in notebook\n",
    "    # HTML: Animated trajectory in a new window. May run better\n",
    "\n",
    "##### Trajectory Maps Parameters:\n",
    "\n",
    "# \"yes\" enables center display of center coordinates if 2D or Find excluded angle\n",
    "display_center = \"no\"\n",
    "\n",
    "#Labels\n",
    "x_axis_label = \"x (nm)\"\n",
    "y_axis_label = \"y (nm)\"\n",
    "z_axis_label = \"Time (ms)\"  \n",
    "unit = \"nm\"  # enter pixel or nm\n",
    "\n",
    "#Formatting parameters\n",
    "pixel_min = -0.75  # setting min/max axis range (pixel)\n",
    "pixel_max = 0.75\n",
    "\n",
    "# change axis increments for nicely fitting tick marks (pixel)\n",
    "axis_increment_pixel = 7\n",
    "# change axis increments for nicely fitting tick marks (nm)\n",
    "axis_increment_nm = 7\n",
    "nm_min = -150  # setting min/max axis range (nm)\n",
    "nm_max = 150\n",
    "#Do you want to save your plot?\n",
    "save_plot = 'yes'\n",
    "\n",
    "#########Angle Versus Time (AVT or avt) Graphs\n",
    "\n",
    "#       Formatting parameters for 'radius filter plot'\n",
    "rad_filter_type_lower = 'nm'  # enter 'zscore' or 'nm' for choice\n",
    "rad_filter_type_upper = 'zscore'  # enter 'zscore' or 'nm' for choice\n",
    "z_up = 3  # enter an upper bound for z score.\n",
    "z_down = -3  # enter a lower bound for z score\n",
    "dist_low = 30  # lower bound for ABS of Radius filter\n",
    "dist_high = 70  # upper bound for ABS of Radius filter\n",
    "\n",
    "#       Formatting parameters for 'angular_continuous_filtered' plot\n",
    "# enter 'line' or 'scatter' for a line graph or a scatter plot. Line plot makes up points when hovered\n",
    "graph_style = 'line'\n",
    "\n",
    "\n",
    "#Formatting parameters 'grid' plot\n",
    "frames_per_plot = 20  # refers to grid plot\n",
    "columns = 7  # columns of plots (grid plot)\n",
    "fig_size_x = 40 # adjust display parameters for graphs to fit nicely, mostly used for 'grid' plot\n",
    "fig_size_y  = 40 # adjust display parameters for graphs to fit nicely, mostly used for 'grid' plot\n",
    "\n",
    "#Formatting parameters 'animation' plot\n",
    "frame_speed = 20  # for animation only (ms)\n",
    "tail_length = 50  # for animation only\n",
    "\n",
    "#DORA.table parameters: \n",
    "save_table = 'no' #saves filtered table if \"yes\"\n",
    "\n",
    "#DORA.collect_variable parameter package\n",
    "###DataTable = avt_good cannot have bc it has not been defined yet\n",
    "col = \"Delta Angle\"\n",
    "sample_conditions= analysisName\n",
    "name_saving_folder = \"Data Tables\""
   ]
  },
  {
   "attachments": {},
   "cell_type": "markdown",
   "id": "4cb35d7d",
   "metadata": {},
   "source": [
    "### Step 2: Find Center of Peak"
   ]
  },
  {
   "cell_type": "code",
   "execution_count": null,
   "id": "81a33327",
   "metadata": {},
   "outputs": [],
   "source": [
    "initial_parameters = [file_name, time_step, frame_start, frame_end, cmap, exp_tag, first_zero_end, graph_centers,save_plot]\n",
    "center, data, ind_invalid_reading, data_back, my_rad_estimate = DORA.find_center(*initial_parameters)"
   ]
  },
  {
   "cell_type": "markdown",
   "id": "ce4e0f07",
   "metadata": {},
   "source": [
    "### Step 3: Downsample Data"
   ]
  },
  {
   "cell_type": "code",
   "execution_count": null,
   "id": "15a5d2ce",
   "metadata": {},
   "outputs": [],
   "source": [
    "downsample_parameters = [bin_size, processing, data, center, time_step, pixel_size, frame_start, frame_end]\n",
    "down_sampled_df = DORA.downsample(*downsample_parameters)"
   ]
  },
  {
   "attachments": {},
   "cell_type": "markdown",
   "id": "34da267d",
   "metadata": {},
   "source": [
    "NOTE: If you have downsampled data already, please input file name and load file here:"
   ]
  },
  {
   "cell_type": "code",
   "execution_count": 18,
   "id": "4c18eb41",
   "metadata": {},
   "outputs": [],
   "source": [
    "# Input folder where file is saved. \n",
    "down_sampled_data_folder = r\"C:\\Users\\jerry\\Desktop\\Research\\Kosuri\\Coding\\OMMxDORA-tomerge\\test_set\\small_csv_batch\\trimmed_csv\"\n",
    "# Input name of file\n",
    "down_sampled_csv = \"OrbitBiotin500Hz100Lz_1k_00001_trimmed.csv\"\n",
    "file_name = down_sampled_csv # override above file name above with this file name \n",
    "\n",
    "# Append saving file to saving folder path\n",
    "down_sampled_data_file_path = os.path.join(down_sampled_data_folder,down_sampled_csv)\n",
    "# read in file and redefine the new file as the new down_sampled_df\n",
    "down_sampled_df = pd.read_csv(down_sampled_data_file_path)\n",
    "\n"
   ]
  },
  {
   "cell_type": "markdown",
   "id": "bd4c67ae",
   "metadata": {},
   "source": [
    "### Step 4: Graph Data"
   ]
  },
  {
   "cell_type": "code",
   "execution_count": 19,
   "id": "b73e46fa",
   "metadata": {
    "scrolled": false
   },
   "outputs": [
    {
     "ename": "NameError",
     "evalue": "name 'plot_type' is not defined",
     "output_type": "error",
     "traceback": [
      "\u001b[1;31m---------------------------------------------------------------------------\u001b[0m",
      "\u001b[1;31mNameError\u001b[0m                                 Traceback (most recent call last)",
      "Cell \u001b[1;32mIn [19], line 17\u001b[0m\n\u001b[0;32m     11\u001b[0m animations \u001b[39m=\u001b[39m [\u001b[39m\"\u001b[39m\u001b[39minteractive\u001b[39m\u001b[39m\"\u001b[39m, \u001b[39m\"\u001b[39m\u001b[39manimated\u001b[39m\u001b[39m\"\u001b[39m, \u001b[39m\"\u001b[39m\u001b[39mHTML\u001b[39m\u001b[39m\"\u001b[39m]\n\u001b[0;32m     16\u001b[0m \u001b[39m#Trajectory map parameters:\u001b[39;00m\n\u001b[1;32m---> 17\u001b[0m tajectory_map_parameters \u001b[39m=\u001b[39m [file_name, down_sampled_df, plot_type, display_center, exp_tag, x_axis_label, y_axis_label, z_axis_label, unit, \n\u001b[0;32m     18\u001b[0m pixel_min, pixel_max, axis_increment_nm, axis_increment_pixel, nm_min, nm_max, save_plot, frame_start, frame_end, time_step,cmap,exp_tag]\n\u001b[0;32m     20\u001b[0m \u001b[39m#Angle Versus Time (AVT or avt) parameters:\u001b[39;00m\n\u001b[0;32m     21\u001b[0m avt_parameters \u001b[39m=\u001b[39m [file_name, down_sampled_df, plot_type, display_center, ind_invalid_reading, rad_filter_type_upper,\n\u001b[0;32m     22\u001b[0m                   rad_filter_type_lower, z_up, z_down, dist_high, dist_low, graph_style, bin_size, frame_start, frame_end,\n\u001b[0;32m     23\u001b[0m                   display_center, exp_tag, x_axis_label, y_axis_label, z_axis_label, unit, pixel_min, pixel_max,\n\u001b[0;32m     24\u001b[0m                   axis_increment_nm, axis_increment_pixel, nm_min, nm_max, save_plot, data_back, cmap, exp_tag] \n",
      "\u001b[1;31mNameError\u001b[0m: name 'plot_type' is not defined"
     ]
    }
   ],
   "source": [
    "#Graph Groupings:\n",
    "# create a list of the acceptable groupings for the trajectory maps\n",
    "trajectory_map = [\"2D\", \"3D\"]\n",
    "\n",
    "# create a list of the acceptable groupings for the Angle Time grouping\n",
    "AngleTime = [\"radius_filter\", \"find_err_angle\", \"angular_continuous_filtered\",\n",
    "                \"basal3\", \"angular\", \"angular_continuous\", \"find_err_angle_CR\"]\n",
    "\n",
    "# create a list of the acceptable groupings for the Animations Grouping\n",
    "\n",
    "animations = [\"interactive\", \"animated\", \"HTML\"]\n",
    "\n",
    "\n",
    "\n",
    "\n",
    "#Trajectory map parameters:\n",
    "tajectory_map_parameters = [file_name, down_sampled_df, plot_type, display_center, exp_tag, x_axis_label, y_axis_label, z_axis_label, unit, \n",
    "pixel_min, pixel_max, axis_increment_nm, axis_increment_pixel, nm_min, nm_max, save_plot, frame_start, frame_end, time_step,cmap,exp_tag]\n",
    "\n",
    "#Angle Versus Time (AVT or avt) parameters:\n",
    "avt_parameters = [file_name, down_sampled_df, plot_type, display_center, ind_invalid_reading, rad_filter_type_upper,\n",
    "                  rad_filter_type_lower, z_up, z_down, dist_high, dist_low, graph_style, bin_size, frame_start, frame_end,\n",
    "                  display_center, exp_tag, x_axis_label, y_axis_label, z_axis_label, unit, pixel_min, pixel_max,\n",
    "                  axis_increment_nm, axis_increment_pixel, nm_min, nm_max, save_plot, data_back, cmap, exp_tag] \n",
    "\n",
    "#Animated Parameters\n",
    "animated_parameters = [file_name, down_sampled_df, plot_type, display_center, ind_invalid_reading, rad_filter_type_upper,\n",
    "                  rad_filter_type_lower, z_up, z_down, dist_high, dist_low, graph_style, bin_size, frame_start, frame_end,\n",
    "                  display_center, exp_tag, x_axis_label, y_axis_label, z_axis_label, unit, pixel_min, pixel_max,\n",
    "                  axis_increment_nm, axis_increment_pixel, nm_min, nm_max, save_plot, data_back, cmap, exp_tag, frame_speed, tail_length] \n",
    "\n",
    "#Grid Parameters\n",
    "grid_parameters = [file_name, down_sampled_df, plot_type, display_center, exp_tag, x_axis_label, y_axis_label, z_axis_label, unit, \n",
    "pixel_min, pixel_max, axis_increment_nm, axis_increment_pixel, nm_min, nm_max, save_plot, frame_start, frame_end, time_step,cmap,exp_tag, \n",
    "frames_per_plot, columns, fig_size_x, fig_size_y]\n",
    "\n",
    "\n",
    "# #DORA.graph(plot_type,*relevant_parameters)\n",
    "\n",
    "if plot_type == \"2D\" or plot_type == \"3D\":\n",
    "    DORA.graph(plot_type,*tajectory_map_parameters)\n",
    "if plot_type in animations:\n",
    "    %matplotlib notebook\n",
    "    DORA.graph(plot_type,*animated_parameters)\n",
    "if plot_type == \"grid\":\n",
    "    DORA.graph(plot_type, *grid_parameters)\n",
    "if plot_type in AngleTime:\n",
    "    DORA.graph(plot_type,*avt_parameters)"
   ]
  },
  {
   "cell_type": "code",
   "execution_count": null,
   "id": "14d4b52f",
   "metadata": {},
   "outputs": [],
   "source": []
  },
  {
   "cell_type": "code",
   "execution_count": null,
   "id": "e6d2e4c7",
   "metadata": {},
   "outputs": [],
   "source": []
  }
 ],
 "metadata": {
  "kernelspec": {
   "display_name": "DashPractice",
   "language": "python",
   "name": "python3"
  },
  "language_info": {
   "codemirror_mode": {
    "name": "ipython",
    "version": 3
   },
   "file_extension": ".py",
   "mimetype": "text/x-python",
   "name": "python",
   "nbconvert_exporter": "python",
   "pygments_lexer": "ipython3",
   "version": "3.9.7"
  },
  "vscode": {
   "interpreter": {
    "hash": "aa7e33f5b5a6c82bd5f649b06ab3906aae9e347e407427f6ff2bd9c25bcdf1d0"
   }
  }
 },
 "nbformat": 4,
 "nbformat_minor": 5
}
