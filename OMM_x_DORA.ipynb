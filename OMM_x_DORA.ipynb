{
 "cells": [
  {
   "cell_type": "markdown",
   "id": "150688fe",
   "metadata": {},
   "source": [
    "## common troubleshooting solutions:\n",
    "\n",
    "1. make sure your file paths use these slashes / and end with a / \n",
    "\n",
    "3. are you in the righ file paths?\n",
    "4. is your info file the same name as your tif file?\n",
    "\n",
    "### NOTE: This is a 'cleaned' copy of the OMM_Analysis from the lab's github I made from running data from ONI using TIFF files. If you have something  else, this is not for you.   \n",
    "  \n",
    "    "
   ]
  },
  {
   "cell_type": "markdown",
   "id": "17d0e147",
   "metadata": {},
   "source": [
    "## OMM Analysis"
   ]
  },
  {
   "cell_type": "code",
   "execution_count": 3,
   "id": "534f7f3b",
   "metadata": {},
   "outputs": [],
   "source": [
    "import sys\n",
    "import os\n",
    "import pandas as pd\n",
    "\n",
    "sys.path.append(r'D:/Jerry/code/OMMxDORA-tomerge/sma/') #if you are not amanda, change to your sma file path (found in zipfile downloaded from github)\n",
    "from DisplayHist import disp_hist\n",
    "from ffpdax import ffp_dax\n",
    "from ffptif import ffp_tif\n",
    "import DORA\n",
    "\n",
    "analysisPath=r'D:/Jerry/DATA/localization_precision_dev_data/20230126_bases_forjerry/10hz_25laser-1_PC/pos_0/'\n",
    "\n",
    "xmlName='ORBIT_Analysis_Settings'\n",
    "\n",
    "analysisName='test'\n",
    "exp_title = \"10hz_25laser-1_posXY0_channels_t0_posZ0_photonct\"\n",
    "xmlFilename=analysisPath+xmlName\n",
    "filename=analysisPath+analysisName\n",
    "ffp_tif(filename,xmlFilename)"
   ]
  },
  {
   "cell_type": "markdown",
   "id": "eb665ba6",
   "metadata": {},
   "source": [
    "# TRJ file to CSV"
   ]
  },
  {
   "cell_type": "code",
   "execution_count": 2,
   "id": "77b7760b",
   "metadata": {},
   "outputs": [],
   "source": [
    "import os\n",
    "newpath = filename+'trcsv'\n",
    "if not os.path.exists(newpath):\n",
    "    os.makedirs(newpath)    #makes a new folder in with same name as filename but ending in trcsv\n",
    "    \n",
    "from tr2csv import tr_2csv\n",
    "tr_2csv(filename)           #Generates CSV file from .tr files      "
   ]
  },
  {
   "cell_type": "markdown",
   "id": "4be8d4a4",
   "metadata": {},
   "source": [
    "# 2D Histogram\n",
    "\n"
   ]
  },
  {
   "cell_type": "code",
   "execution_count": 3,
   "id": "5fb6b420",
   "metadata": {
    "scrolled": true
   },
   "outputs": [
    {
     "name": "stdout",
     "output_type": "stream",
     "text": [
      "Number of peaks\n",
      "58\n"
     ]
    },
    {
     "data": {
      "text/plain": [
       "58"
      ]
     },
     "execution_count": 3,
     "metadata": {},
     "output_type": "execute_result"
    }
   ],
   "source": [
    "import numpy as np\n",
    "\n",
    "histInfoName=filename+'trdir/histpar' # opens the infromation file\n",
    "histInfoFile = open(histInfoName+'.info','rb')\n",
    "histInfo=np.fromfile(histInfoFile,dtype='int32')\n",
    "histInfoFile.close()\n",
    "print(\"Number of peaks\")\n",
    "print(histInfo[3])\n",
    "histInfo[3]"
   ]
  },
  {
   "cell_type": "code",
   "execution_count": 4,
   "id": "bc6b5fb5",
   "metadata": {
    "scrolled": true
   },
   "outputs": [
    {
     "name": "stdout",
     "output_type": "stream",
     "text": [
      "Displaying\n",
      "25\n"
     ]
    }
   ],
   "source": [
    "#display settings for tracjectories\n",
    "histPerCol=5\n",
    "histPerRow=5\n",
    "\n",
    "print(\"Displaying\")\n",
    "print(histPerRow*histPerCol)"
   ]
  },
  {
   "cell_type": "code",
   "execution_count": 5,
   "id": "b4a3f5b3",
   "metadata": {
    "scrolled": true
   },
   "outputs": [
    {
     "name": "stdout",
     "output_type": "stream",
     "text": [
      "[   1    0 1000]\n",
      "[   1    0 1000]\n",
      "[   1    0 1000]\n",
      "pk, t1 ,t2\n",
      "[[   1    0 1000]\n",
      " [   1    0 1000]\n",
      " [   1    0 1000]]\n"
     ]
    }
   ],
   "source": [
    "#when you run this, you should get a pop up window. check your windows bar at the bottom of the deskstop  \n",
    "import numpy as np\n",
    "from PIL import Image\n",
    "import argparse\n",
    "import cv2\n",
    "\n",
    "\n",
    "[refptnp,refsc,refcol,sum_of_rows, out]=disp_hist(filename,histPerCol,histPerRow) #change for dax\n",
    "print('pk, t1 ,t2')\n",
    "print(out)\n"
   ]
  },
  {
   "cell_type": "code",
   "execution_count": 6,
   "id": "8a388159",
   "metadata": {},
   "outputs": [
    {
     "name": "stdout",
     "output_type": "stream",
     "text": [
      "D:/Jerry/DATA/localization_precision_dev_data/20230126_bases_forjerry/10hz_25laser-1_PC/pos_0/testtrcsv/00016.csv\n"
     ]
    }
   ],
   "source": [
    "#Remeber python indexs from 0 so if you want your first selection to be the peak you analyze pick 0\n",
    "#also the peaks go in paired sets, the first two selections will be \"peak 0\"\n",
    "\n",
    "chosenpk=0\n",
    "\n",
    "#pk=str(out[chosenpk*2,0]).zfill(5)\n",
    "#frStart=out[chosenpk*2,1]\n",
    "#frEnd=out[((chosenpk*2)+1),2] \n",
    "#print(\"Peak: \"+pk)\n",
    "#print(\"Start: \"+str(frStart))\n",
    "#print(\"End: \"+str(frEnd))\n",
    "\n",
    "pk=str(16).zfill(5)\n",
    "csvpath=filename+'trcsv/'\n",
    "csvnum=csvpath+pk+'.csv'\n",
    "print(csvnum)"
   ]
  },
  {
   "cell_type": "markdown",
   "id": "514e28d6",
   "metadata": {},
   "source": [
    "# DORA Graphing"
   ]
  },
  {
   "cell_type": "markdown",
   "id": "2613e730",
   "metadata": {},
   "source": [
    "### Step 1: Input graphing parameters"
   ]
  },
  {
   "cell_type": "code",
   "execution_count": 7,
   "id": "78777ff4",
   "metadata": {},
   "outputs": [],
   "source": [
    "\n",
    "sys.path.append(r\"D:\\Jerry\\code\\OMMxDORA-tomerge\\test_set\")\n",
    "exp_tag = \"RecBCD\" # a tag that caries the name of the experiment\n",
    "file_name = \"RecBCD.csv\" \n",
    "analysisName = None"
   ]
  },
  {
   "cell_type": "code",
   "execution_count": 6,
   "id": "089fdd81",
   "metadata": {},
   "outputs": [
    {
     "ename": "NameError",
     "evalue": "name 'analysisName' is not defined",
     "output_type": "error",
     "traceback": [
      "\u001b[1;31m---------------------------------------------------------------------------\u001b[0m",
      "\u001b[1;31mNameError\u001b[0m                                 Traceback (most recent call last)",
      "\u001b[1;32m~\\AppData\\Local\\Temp\\ipykernel_45376\\1705255415.py\u001b[0m in \u001b[0;36m<module>\u001b[1;34m\u001b[0m\n\u001b[0;32m    102\u001b[0m \u001b[1;31m###DataTable = avt_good cannot have bc it has not been defined yet\u001b[0m\u001b[1;33m\u001b[0m\u001b[1;33m\u001b[0m\u001b[0m\n\u001b[0;32m    103\u001b[0m \u001b[0mcol\u001b[0m \u001b[1;33m=\u001b[0m \u001b[1;34m\"Delta Angle\"\u001b[0m\u001b[1;33m\u001b[0m\u001b[1;33m\u001b[0m\u001b[0m\n\u001b[1;32m--> 104\u001b[1;33m \u001b[0msample_conditions\u001b[0m\u001b[1;33m=\u001b[0m \u001b[0manalysisName\u001b[0m\u001b[1;33m\u001b[0m\u001b[1;33m\u001b[0m\u001b[0m\n\u001b[0m\u001b[0;32m    105\u001b[0m \u001b[0mname_saving_folder\u001b[0m \u001b[1;33m=\u001b[0m \u001b[1;34m\"Data Tables\"\u001b[0m\u001b[1;33m\u001b[0m\u001b[1;33m\u001b[0m\u001b[0m\n",
      "\u001b[1;31mNameError\u001b[0m: name 'analysisName' is not defined"
     ]
    }
   ],
   "source": [
    "#universal parameters\n",
    "# exp_tag = exp_title + pk # a tag that caries the name of the experiment\n",
    "# file_name = csvnum  \n",
    "pixel_size = 117  # in nanometers\n",
    "time_step = 100  # miliseconds per frame in trajectory movie\n",
    "frame_start = 0  # enter 0 to start from beginning of dataset\n",
    "frame_end = -1  # enter -1 to end at the last value of the data set\n",
    "cmap = \"spring_r\" # enter a color map string from this https://matplotlib.org/2.0.2/examples/color/colormaps_reference.html\n",
    "first_zero_end = 'no'  # yes to cut off all values after first 0,0 = x,y\n",
    "graph_centers = \"yes\" #'yes' or 'no' to graphing the centers of the data. \n",
    "save_plot = 'yes' \n",
    "\n",
    "#downsampling parameters\n",
    "bin_size = 10  # bin size for downsample/filter processing\n",
    "processing = \"downsample\"  # enter downsample, moving average, or none\n",
    "\n",
    "#Plot Parameters\n",
    "\n",
    "#Which Graph?\n",
    "plot_type = \"angular_continuous_filtered\"\n",
    "#plot_type = \"2D\"\n",
    "# Graphing options:\n",
    "    # Trajectory Maps:\n",
    "    # 2D: Colorful 2D visulization of the rotor from above\n",
    "    # 3D: 2D plot but time is an axis\n",
    "\n",
    "    # Grid plot\n",
    "    # grid: a grid of little snippets of the data\n",
    "\n",
    "    # Angular Analysis:\n",
    "\n",
    "    #         By Jerry\n",
    "    # radius_filter: Demarcate the excluded data points that will be eliminated from calculations\n",
    "    # find_excluded_angle: Indicate excluded angles within angular_continuous by Jerry\n",
    "    # angular_continuous_filtered: Angular Continuous recalculated with excluded points filtered. Excluded points skips indicated.\n",
    "    # basal3: Graphs tailored for the basal graph analysis 3/14/2022\n",
    "    # Angular Continuous with a downsampled curve as well. still has bugs with excluded type labelling\n",
    "\n",
    "    #         By Claire:  [NOT DONE]\n",
    "    # angular: angle vs time, but it's not cummulative and resets at 360 to 0 (Claire)\n",
    "    # angular_continuous: Claire's Calculation of a cummulative angle\n",
    "    # find_excluded_angle_CR: Indicate excluded angles within angular_continuous by Claire's calculations\n",
    "\n",
    "    # Animation   [NOT DONE]\n",
    "    # interactive: Interactive graph\n",
    "    # animated: animated trajectory in notebook\n",
    "    # HTML: Animated trajectory in a new window. May run better\n",
    "\n",
    "##### Trajectory Maps Parameters:\n",
    "\n",
    "# \"yes\" enables center display of center coordinates if 2D or Find excluded angle\n",
    "display_center = \"no\"\n",
    "\n",
    "#Labels\n",
    "x_axis_label = \"x (nm)\"\n",
    "y_axis_label = \"y (nm)\"\n",
    "z_axis_label = \"Time (ms)\"  \n",
    "unit = \"nm\"  # enter pixel or nm\n",
    "\n",
    "#Formatting parameters\n",
    "pixel_min = -0.75  # setting min/max axis range (pixel)\n",
    "pixel_max = 0.75\n",
    "\n",
    "# change axis increments for nicely fitting tick marks (pixel)\n",
    "axis_increment_pixel = 7\n",
    "# change axis increments for nicely fitting tick marks (nm)\n",
    "axis_increment_nm = 7\n",
    "nm_min = -150  # setting min/max axis range (nm)\n",
    "nm_max = 150\n",
    "#Do you want to save your plot?\n",
    "save_plot = 'yes'\n",
    "\n",
    "#########Angle Versus Time (AVT or avt) Graphs\n",
    "\n",
    "#       Formatting parameters for 'radius filter plot'\n",
    "rad_filter_type_lower = 'nm'  # enter 'zscore' or 'nm' for choice\n",
    "rad_filter_type_upper = 'zscore'  # enter 'zscore' or 'nm' for choice\n",
    "z_up = 3  # enter an upper bound for z score.\n",
    "z_down = -3  # enter a lower bound for z score\n",
    "dist_low = 30  # lower bound for ABS of Radius filter\n",
    "dist_high = 70  # upper bound for ABS of Radius filter\n",
    "\n",
    "#       Formatting parameters for 'angular_continuous_filtered' plot\n",
    "# enter 'line' or 'scatter' for a line graph or a scatter plot. Line plot makes up points when hovered\n",
    "graph_style = 'line'\n",
    "\n",
    "\n",
    "#Formatting parameters 'grid' plot\n",
    "frames_per_plot = 20  # refers to grid plot\n",
    "columns = 7  # columns of plots (grid plot)\n",
    "fig_size_x = 40 # adjust display parameters for graphs to fit nicely, mostly used for 'grid' plot\n",
    "fig_size_y  = 40 # adjust display parameters for graphs to fit nicely, mostly used for 'grid' plot\n",
    "\n",
    "#Formatting parameters 'animation' plot\n",
    "frame_speed = 20  # for animation only (ms)\n",
    "tail_length = 50  # for animation only\n",
    "\n",
    "#DORA.table parameters: \n",
    "save_table = 'no' #saves filtered table if \"yes\"\n",
    "\n",
    "#DORA.collect_variable parameter package\n",
    "###DataTable = avt_good cannot have bc it has not been defined yet\n",
    "col = \"Delta Angle\"\n",
    "sample_conditions= analysisName\n",
    "name_saving_folder = \"Data Tables\""
   ]
  },
  {
   "cell_type": "markdown",
   "id": "4cb35d7d",
   "metadata": {},
   "source": [
    "### Step 2: Find Center of Peak"
   ]
  },
  {
   "cell_type": "code",
   "execution_count": 8,
   "id": "81a33327",
   "metadata": {},
   "outputs": [
    {
     "name": "stdout",
     "output_type": "stream",
     "text": [
      "I have saved the picture with the name:\n",
      "Algorithm_Center_Guess_10hz_25laser-1_posXY0_channels_t0_posZ0_photonct00016_centering.png\n"
     ]
    },
    {
     "data": {
      "image/png": "[encoded data removed]",
      "text/plain": [
       "<Figure size 600x600 with 2 Axes>"
      ]
     },
     "metadata": {
      "needs_background": "light"
     },
     "output_type": "display_data"
    },
    {
     "name": "stdout",
     "output_type": "stream",
     "text": [
      "The center is (103.21114909892178, 453.63009643554693)\n",
      "If the center is satisfactory, change the find_center_coordinates parameter to no\n",
      "If the center is unsatisfactory, adjust the frame_start and frame_end parameters and try again\n"
     ]
    }
   ],
   "source": [
    "initial_parameters = [file_name, time_step, frame_start, frame_end, cmap, exp_tag, first_zero_end, graph_centers,save_plot]\n",
    "center, data, ind_invalid_reading, data_back, my_rad_estimate = DORA.find_center(*initial_parameters)"
   ]
  },
  {
   "cell_type": "markdown",
   "id": "ce4e0f07",
   "metadata": {},
   "source": [
    "### Step 3: Downsample Data"
   ]
  },
  {
   "cell_type": "code",
   "execution_count": 9,
   "id": "96138c69",
   "metadata": {},
   "outputs": [],
   "source": [
    "## redefine center\n",
    "center = [101,453]"
   ]
  },
  {
   "cell_type": "code",
   "execution_count": 10,
   "id": "15a5d2ce",
   "metadata": {},
   "outputs": [],
   "source": [
    "downsample_parameters = [bin_size, processing, data, center, time_step, pixel_size, frame_start, frame_end]\n",
    "if processing == \"downsample\":\n",
    "    down_sampled_df,frame_start,frame_end = DORA.downsample(*downsample_parameters)\n",
    "else:\n",
    "    down_sampled_df = DORA.downsample(*downsample_parameters)"
   ]
  },
  {
   "cell_type": "markdown",
   "id": "34da267d",
   "metadata": {},
   "source": [
    "NOTE: If you have downsampled data already, please input file name and load file here:"
   ]
  },
  {
   "cell_type": "code",
   "execution_count": 75,
   "id": "4c18eb41",
   "metadata": {},
   "outputs": [
    {
     "ename": "FileNotFoundError",
     "evalue": "[Errno 2] No such file or directory: 'C:\\\\Users\\\\jerry\\\\Desktop\\\\Research\\\\Kosuri\\\\Coding\\\\OMMxDORA-tomerge\\\\test_set\\\\small_csv_batch\\\\trimmed_csv\\\\OrbitBiotin500Hz100Lz_1k_00001_trimmed.csv'",
     "output_type": "error",
     "traceback": [
      "\u001b[1;31m---------------------------------------------------------------------------\u001b[0m",
      "\u001b[1;31mFileNotFoundError\u001b[0m                         Traceback (most recent call last)",
      "\u001b[1;32m~\\AppData\\Local\\Temp\\ipykernel_5172\\2047478321.py\u001b[0m in \u001b[0;36m<module>\u001b[1;34m\u001b[0m\n\u001b[0;32m      8\u001b[0m \u001b[0mdown_sampled_data_file_path\u001b[0m \u001b[1;33m=\u001b[0m \u001b[0mos\u001b[0m\u001b[1;33m.\u001b[0m\u001b[0mpath\u001b[0m\u001b[1;33m.\u001b[0m\u001b[0mjoin\u001b[0m\u001b[1;33m(\u001b[0m\u001b[0mdown_sampled_data_folder\u001b[0m\u001b[1;33m,\u001b[0m\u001b[0mdown_sampled_csv\u001b[0m\u001b[1;33m)\u001b[0m\u001b[1;33m\u001b[0m\u001b[1;33m\u001b[0m\u001b[0m\n\u001b[0;32m      9\u001b[0m \u001b[1;31m# read in file and redefine the new file as the new down_sampled_df\u001b[0m\u001b[1;33m\u001b[0m\u001b[1;33m\u001b[0m\u001b[0m\n\u001b[1;32m---> 10\u001b[1;33m \u001b[0mdown_sampled_df\u001b[0m \u001b[1;33m=\u001b[0m \u001b[0mpd\u001b[0m\u001b[1;33m.\u001b[0m\u001b[0mread_csv\u001b[0m\u001b[1;33m(\u001b[0m\u001b[0mdown_sampled_data_file_path\u001b[0m\u001b[1;33m)\u001b[0m\u001b[1;33m\u001b[0m\u001b[1;33m\u001b[0m\u001b[0m\n\u001b[0m\u001b[0;32m     11\u001b[0m \u001b[1;33m\u001b[0m\u001b[0m\n",
      "\u001b[1;32mc:\\ProgramData\\Anaconda3\\envs\\origami_clone_jw\\lib\\site-packages\\pandas\\util\\_decorators.py\u001b[0m in \u001b[0;36mwrapper\u001b[1;34m(*args, **kwargs)\u001b[0m\n\u001b[0;32m    309\u001b[0m                     \u001b[0mstacklevel\u001b[0m\u001b[1;33m=\u001b[0m\u001b[0mstacklevel\u001b[0m\u001b[1;33m,\u001b[0m\u001b[1;33m\u001b[0m\u001b[1;33m\u001b[0m\u001b[0m\n\u001b[0;32m    310\u001b[0m                 )\n\u001b[1;32m--> 311\u001b[1;33m             \u001b[1;32mreturn\u001b[0m \u001b[0mfunc\u001b[0m\u001b[1;33m(\u001b[0m\u001b[1;33m*\u001b[0m\u001b[0margs\u001b[0m\u001b[1;33m,\u001b[0m \u001b[1;33m**\u001b[0m\u001b[0mkwargs\u001b[0m\u001b[1;33m)\u001b[0m\u001b[1;33m\u001b[0m\u001b[1;33m\u001b[0m\u001b[0m\n\u001b[0m\u001b[0;32m    312\u001b[0m \u001b[1;33m\u001b[0m\u001b[0m\n\u001b[0;32m    313\u001b[0m         \u001b[1;32mreturn\u001b[0m \u001b[0mwrapper\u001b[0m\u001b[1;33m\u001b[0m\u001b[1;33m\u001b[0m\u001b[0m\n",
      "\u001b[1;32mc:\\ProgramData\\Anaconda3\\envs\\origami_clone_jw\\lib\\site-packages\\pandas\\io\\parsers\\readers.py\u001b[0m in \u001b[0;36mread_csv\u001b[1;34m(filepath_or_buffer, sep, delimiter, header, names, index_col, usecols, squeeze, prefix, mangle_dupe_cols, dtype, engine, converters, true_values, false_values, skipinitialspace, skiprows, skipfooter, nrows, na_values, keep_default_na, na_filter, verbose, skip_blank_lines, parse_dates, infer_datetime_format, keep_date_col, date_parser, dayfirst, cache_dates, iterator, chunksize, compression, thousands, decimal, lineterminator, quotechar, quoting, doublequote, escapechar, comment, encoding, encoding_errors, dialect, error_bad_lines, warn_bad_lines, on_bad_lines, delim_whitespace, low_memory, memory_map, float_precision, storage_options)\u001b[0m\n\u001b[0;32m    678\u001b[0m     \u001b[0mkwds\u001b[0m\u001b[1;33m.\u001b[0m\u001b[0mupdate\u001b[0m\u001b[1;33m(\u001b[0m\u001b[0mkwds_defaults\u001b[0m\u001b[1;33m)\u001b[0m\u001b[1;33m\u001b[0m\u001b[1;33m\u001b[0m\u001b[0m\n\u001b[0;32m    679\u001b[0m \u001b[1;33m\u001b[0m\u001b[0m\n\u001b[1;32m--> 680\u001b[1;33m     \u001b[1;32mreturn\u001b[0m \u001b[0m_read\u001b[0m\u001b[1;33m(\u001b[0m\u001b[0mfilepath_or_buffer\u001b[0m\u001b[1;33m,\u001b[0m \u001b[0mkwds\u001b[0m\u001b[1;33m)\u001b[0m\u001b[1;33m\u001b[0m\u001b[1;33m\u001b[0m\u001b[0m\n\u001b[0m\u001b[0;32m    681\u001b[0m \u001b[1;33m\u001b[0m\u001b[0m\n\u001b[0;32m    682\u001b[0m \u001b[1;33m\u001b[0m\u001b[0m\n",
      "\u001b[1;32mc:\\ProgramData\\Anaconda3\\envs\\origami_clone_jw\\lib\\site-packages\\pandas\\io\\parsers\\readers.py\u001b[0m in \u001b[0;36m_read\u001b[1;34m(filepath_or_buffer, kwds)\u001b[0m\n\u001b[0;32m    573\u001b[0m \u001b[1;33m\u001b[0m\u001b[0m\n\u001b[0;32m    574\u001b[0m     \u001b[1;31m# Create the parser.\u001b[0m\u001b[1;33m\u001b[0m\u001b[1;33m\u001b[0m\u001b[0m\n\u001b[1;32m--> 575\u001b[1;33m     \u001b[0mparser\u001b[0m \u001b[1;33m=\u001b[0m \u001b[0mTextFileReader\u001b[0m\u001b[1;33m(\u001b[0m\u001b[0mfilepath_or_buffer\u001b[0m\u001b[1;33m,\u001b[0m \u001b[1;33m**\u001b[0m\u001b[0mkwds\u001b[0m\u001b[1;33m)\u001b[0m\u001b[1;33m\u001b[0m\u001b[1;33m\u001b[0m\u001b[0m\n\u001b[0m\u001b[0;32m    576\u001b[0m \u001b[1;33m\u001b[0m\u001b[0m\n\u001b[0;32m    577\u001b[0m     \u001b[1;32mif\u001b[0m \u001b[0mchunksize\u001b[0m \u001b[1;32mor\u001b[0m \u001b[0miterator\u001b[0m\u001b[1;33m:\u001b[0m\u001b[1;33m\u001b[0m\u001b[1;33m\u001b[0m\u001b[0m\n",
      "\u001b[1;32mc:\\ProgramData\\Anaconda3\\envs\\origami_clone_jw\\lib\\site-packages\\pandas\\io\\parsers\\readers.py\u001b[0m in \u001b[0;36m__init__\u001b[1;34m(self, f, engine, **kwds)\u001b[0m\n\u001b[0;32m    931\u001b[0m \u001b[1;33m\u001b[0m\u001b[0m\n\u001b[0;32m    932\u001b[0m         \u001b[0mself\u001b[0m\u001b[1;33m.\u001b[0m\u001b[0mhandles\u001b[0m\u001b[1;33m:\u001b[0m \u001b[0mIOHandles\u001b[0m \u001b[1;33m|\u001b[0m \u001b[1;32mNone\u001b[0m \u001b[1;33m=\u001b[0m \u001b[1;32mNone\u001b[0m\u001b[1;33m\u001b[0m\u001b[1;33m\u001b[0m\u001b[0m\n\u001b[1;32m--> 933\u001b[1;33m         \u001b[0mself\u001b[0m\u001b[1;33m.\u001b[0m\u001b[0m_engine\u001b[0m \u001b[1;33m=\u001b[0m \u001b[0mself\u001b[0m\u001b[1;33m.\u001b[0m\u001b[0m_make_engine\u001b[0m\u001b[1;33m(\u001b[0m\u001b[0mf\u001b[0m\u001b[1;33m,\u001b[0m \u001b[0mself\u001b[0m\u001b[1;33m.\u001b[0m\u001b[0mengine\u001b[0m\u001b[1;33m)\u001b[0m\u001b[1;33m\u001b[0m\u001b[1;33m\u001b[0m\u001b[0m\n\u001b[0m\u001b[0;32m    934\u001b[0m \u001b[1;33m\u001b[0m\u001b[0m\n\u001b[0;32m    935\u001b[0m     \u001b[1;32mdef\u001b[0m \u001b[0mclose\u001b[0m\u001b[1;33m(\u001b[0m\u001b[0mself\u001b[0m\u001b[1;33m)\u001b[0m\u001b[1;33m:\u001b[0m\u001b[1;33m\u001b[0m\u001b[1;33m\u001b[0m\u001b[0m\n",
      "\u001b[1;32mc:\\ProgramData\\Anaconda3\\envs\\origami_clone_jw\\lib\\site-packages\\pandas\\io\\parsers\\readers.py\u001b[0m in \u001b[0;36m_make_engine\u001b[1;34m(self, f, engine)\u001b[0m\n\u001b[0;32m   1215\u001b[0m             \u001b[1;31m# \"Union[str, PathLike[str], ReadCsvBuffer[bytes], ReadCsvBuffer[str]]\"\u001b[0m\u001b[1;33m\u001b[0m\u001b[1;33m\u001b[0m\u001b[0m\n\u001b[0;32m   1216\u001b[0m             \u001b[1;31m# , \"str\", \"bool\", \"Any\", \"Any\", \"Any\", \"Any\", \"Any\"\u001b[0m\u001b[1;33m\u001b[0m\u001b[1;33m\u001b[0m\u001b[0m\n\u001b[1;32m-> 1217\u001b[1;33m             self.handles = get_handle(  # type: ignore[call-overload]\n\u001b[0m\u001b[0;32m   1218\u001b[0m                 \u001b[0mf\u001b[0m\u001b[1;33m,\u001b[0m\u001b[1;33m\u001b[0m\u001b[1;33m\u001b[0m\u001b[0m\n\u001b[0;32m   1219\u001b[0m                 \u001b[0mmode\u001b[0m\u001b[1;33m,\u001b[0m\u001b[1;33m\u001b[0m\u001b[1;33m\u001b[0m\u001b[0m\n",
      "\u001b[1;32mc:\\ProgramData\\Anaconda3\\envs\\origami_clone_jw\\lib\\site-packages\\pandas\\io\\common.py\u001b[0m in \u001b[0;36mget_handle\u001b[1;34m(path_or_buf, mode, encoding, compression, memory_map, is_text, errors, storage_options)\u001b[0m\n\u001b[0;32m    787\u001b[0m         \u001b[1;32mif\u001b[0m \u001b[0mioargs\u001b[0m\u001b[1;33m.\u001b[0m\u001b[0mencoding\u001b[0m \u001b[1;32mand\u001b[0m \u001b[1;34m\"b\"\u001b[0m \u001b[1;32mnot\u001b[0m \u001b[1;32min\u001b[0m \u001b[0mioargs\u001b[0m\u001b[1;33m.\u001b[0m\u001b[0mmode\u001b[0m\u001b[1;33m:\u001b[0m\u001b[1;33m\u001b[0m\u001b[1;33m\u001b[0m\u001b[0m\n\u001b[0;32m    788\u001b[0m             \u001b[1;31m# Encoding\u001b[0m\u001b[1;33m\u001b[0m\u001b[1;33m\u001b[0m\u001b[0m\n\u001b[1;32m--> 789\u001b[1;33m             handle = open(\n\u001b[0m\u001b[0;32m    790\u001b[0m                 \u001b[0mhandle\u001b[0m\u001b[1;33m,\u001b[0m\u001b[1;33m\u001b[0m\u001b[1;33m\u001b[0m\u001b[0m\n\u001b[0;32m    791\u001b[0m                 \u001b[0mioargs\u001b[0m\u001b[1;33m.\u001b[0m\u001b[0mmode\u001b[0m\u001b[1;33m,\u001b[0m\u001b[1;33m\u001b[0m\u001b[1;33m\u001b[0m\u001b[0m\n",
      "\u001b[1;31mFileNotFoundError\u001b[0m: [Errno 2] No such file or directory: 'C:\\\\Users\\\\jerry\\\\Desktop\\\\Research\\\\Kosuri\\\\Coding\\\\OMMxDORA-tomerge\\\\test_set\\\\small_csv_batch\\\\trimmed_csv\\\\OrbitBiotin500Hz100Lz_1k_00001_trimmed.csv'"
     ]
    }
   ],
   "source": [
    "# Input folder where file is saved. \n",
    "down_sampled_data_folder = r\"C:\\Users\\jerry\\Desktop\\Research\\Kosuri\\Coding\\OMMxDORA-tomerge\\test_set\\small_csv_batch\\trimmed_csv\"\n",
    "# Input name of file\n",
    "down_sampled_csv = \"OrbitBiotin500Hz100Lz_1k_00001_trimmed.csv\"\n",
    "file_name = down_sampled_csv # override above file name above with this file name \n",
    "\n",
    "# Append saving file to saving folder path\n",
    "down_sampled_data_file_path = os.path.join(down_sampled_data_folder,down_sampled_csv)\n",
    "# read in file and redefine the new file as the new down_sampled_df\n",
    "down_sampled_df = pd.read_csv(down_sampled_data_file_path)\n",
    "\n"
   ]
  },
  {
   "cell_type": "code",
   "execution_count": 11,
   "id": "984b84f0",
   "metadata": {},
   "outputs": [
    {
     "data": {
      "text/html": [
       "<div>\n",
       "<style scoped>\n",
       "    .dataframe tbody tr th:only-of-type {\n",
       "        vertical-align: middle;\n",
       "    }\n",
       "\n",
       "    .dataframe tbody tr th {\n",
       "        vertical-align: top;\n",
       "    }\n",
       "\n",
       "    .dataframe thead th {\n",
       "        text-align: right;\n",
       "    }\n",
       "</style>\n",
       "<table border=\"1\" class=\"dataframe\">\n",
       "  <thead>\n",
       "    <tr style=\"text-align: right;\">\n",
       "      <th></th>\n",
       "      <th>index</th>\n",
       "      <th>X movement</th>\n",
       "      <th>Y movement</th>\n",
       "      <th>X displacement (pixels)</th>\n",
       "      <th>Y displacement (pixels)</th>\n",
       "      <th>X displacement (nm)</th>\n",
       "      <th>Y displacement (nm)</th>\n",
       "      <th>Time (ms)</th>\n",
       "    </tr>\n",
       "  </thead>\n",
       "  <tbody>\n",
       "    <tr>\n",
       "      <th>0</th>\n",
       "      <td>4.5</td>\n",
       "      <td>100.690264</td>\n",
       "      <td>454.295822</td>\n",
       "      <td>-0.309736</td>\n",
       "      <td>-36.239097</td>\n",
       "      <td>-36.239097</td>\n",
       "      <td>151.611191</td>\n",
       "      <td>450.0</td>\n",
       "    </tr>\n",
       "    <tr>\n",
       "      <th>1</th>\n",
       "      <td>14.5</td>\n",
       "      <td>100.662621</td>\n",
       "      <td>454.215640</td>\n",
       "      <td>-0.337379</td>\n",
       "      <td>-39.473307</td>\n",
       "      <td>-39.473307</td>\n",
       "      <td>142.229910</td>\n",
       "      <td>1450.0</td>\n",
       "    </tr>\n",
       "    <tr>\n",
       "      <th>2</th>\n",
       "      <td>24.5</td>\n",
       "      <td>100.685085</td>\n",
       "      <td>454.116483</td>\n",
       "      <td>-0.314915</td>\n",
       "      <td>-36.845020</td>\n",
       "      <td>-36.845020</td>\n",
       "      <td>130.628458</td>\n",
       "      <td>2450.0</td>\n",
       "    </tr>\n",
       "    <tr>\n",
       "      <th>3</th>\n",
       "      <td>34.5</td>\n",
       "      <td>100.721432</td>\n",
       "      <td>454.083127</td>\n",
       "      <td>-0.278568</td>\n",
       "      <td>-32.592487</td>\n",
       "      <td>-32.592487</td>\n",
       "      <td>126.725839</td>\n",
       "      <td>3450.0</td>\n",
       "    </tr>\n",
       "    <tr>\n",
       "      <th>4</th>\n",
       "      <td>44.5</td>\n",
       "      <td>100.807966</td>\n",
       "      <td>453.997107</td>\n",
       "      <td>-0.192034</td>\n",
       "      <td>-22.467995</td>\n",
       "      <td>-22.467995</td>\n",
       "      <td>116.661511</td>\n",
       "      <td>4450.0</td>\n",
       "    </tr>\n",
       "  </tbody>\n",
       "</table>\n",
       "</div>"
      ],
      "text/plain": [
       "   index  X movement  Y movement  X displacement (pixels)  \\\n",
       "0    4.5  100.690264  454.295822                -0.309736   \n",
       "1   14.5  100.662621  454.215640                -0.337379   \n",
       "2   24.5  100.685085  454.116483                -0.314915   \n",
       "3   34.5  100.721432  454.083127                -0.278568   \n",
       "4   44.5  100.807966  453.997107                -0.192034   \n",
       "\n",
       "   Y displacement (pixels)  X displacement (nm)  Y displacement (nm)  \\\n",
       "0               -36.239097           -36.239097           151.611191   \n",
       "1               -39.473307           -39.473307           142.229910   \n",
       "2               -36.845020           -36.845020           130.628458   \n",
       "3               -32.592487           -32.592487           126.725839   \n",
       "4               -22.467995           -22.467995           116.661511   \n",
       "\n",
       "   Time (ms)  \n",
       "0      450.0  \n",
       "1     1450.0  \n",
       "2     2450.0  \n",
       "3     3450.0  \n",
       "4     4450.0  "
      ]
     },
     "execution_count": 11,
     "metadata": {},
     "output_type": "execute_result"
    }
   ],
   "source": [
    "down_sampled_df[\"X displacement (nm)\"].shape\n",
    "down_sampled_df.head()"
   ]
  },
  {
   "cell_type": "markdown",
   "id": "bd4c67ae",
   "metadata": {},
   "source": [
    "### Step 4: Graph Data"
   ]
  },
  {
   "cell_type": "code",
   "execution_count": 78,
   "id": "814d52af",
   "metadata": {},
   "outputs": [
    {
     "data": {
      "text/html": [
       "<div>\n",
       "<style scoped>\n",
       "    .dataframe tbody tr th:only-of-type {\n",
       "        vertical-align: middle;\n",
       "    }\n",
       "\n",
       "    .dataframe tbody tr th {\n",
       "        vertical-align: top;\n",
       "    }\n",
       "\n",
       "    .dataframe thead th {\n",
       "        text-align: right;\n",
       "    }\n",
       "</style>\n",
       "<table border=\"1\" class=\"dataframe\">\n",
       "  <thead>\n",
       "    <tr style=\"text-align: right;\">\n",
       "      <th></th>\n",
       "      <th>index</th>\n",
       "      <th>X position</th>\n",
       "      <th>Y position</th>\n",
       "      <th>Intensity</th>\n",
       "      <th>X displacement (pixels)</th>\n",
       "      <th>Y displacement (pixels)</th>\n",
       "      <th>X displacement (nm)</th>\n",
       "      <th>Y displacement (nm)</th>\n",
       "      <th>Time (ms)</th>\n",
       "      <th>Radius (nm)</th>\n",
       "      <th>z-score Rad</th>\n",
       "      <th>Angle</th>\n",
       "    </tr>\n",
       "  </thead>\n",
       "  <tbody>\n",
       "    <tr>\n",
       "      <th>0</th>\n",
       "      <td>0</td>\n",
       "      <td>100.592545</td>\n",
       "      <td>454.366516</td>\n",
       "      <td>1215.0</td>\n",
       "      <td>-0.407455</td>\n",
       "      <td>1.366516</td>\n",
       "      <td>-47.672287</td>\n",
       "      <td>159.882385</td>\n",
       "      <td>0</td>\n",
       "      <td>166.838317</td>\n",
       "      <td>0.441079</td>\n",
       "      <td>253.396947</td>\n",
       "    </tr>\n",
       "    <tr>\n",
       "      <th>1</th>\n",
       "      <td>1</td>\n",
       "      <td>100.746689</td>\n",
       "      <td>454.251892</td>\n",
       "      <td>1399.0</td>\n",
       "      <td>-0.253311</td>\n",
       "      <td>1.251892</td>\n",
       "      <td>-29.637405</td>\n",
       "      <td>146.471375</td>\n",
       "      <td>100</td>\n",
       "      <td>149.439752</td>\n",
       "      <td>0.235251</td>\n",
       "      <td>258.561065</td>\n",
       "    </tr>\n",
       "    <tr>\n",
       "      <th>2</th>\n",
       "      <td>2</td>\n",
       "      <td>100.493515</td>\n",
       "      <td>454.344269</td>\n",
       "      <td>1483.0</td>\n",
       "      <td>-0.506485</td>\n",
       "      <td>1.344269</td>\n",
       "      <td>-59.258743</td>\n",
       "      <td>157.279449</td>\n",
       "      <td>200</td>\n",
       "      <td>168.072674</td>\n",
       "      <td>0.455681</td>\n",
       "      <td>249.354916</td>\n",
       "    </tr>\n",
       "    <tr>\n",
       "      <th>3</th>\n",
       "      <td>3</td>\n",
       "      <td>100.710602</td>\n",
       "      <td>454.263611</td>\n",
       "      <td>1257.0</td>\n",
       "      <td>-0.289398</td>\n",
       "      <td>1.263611</td>\n",
       "      <td>-33.859589</td>\n",
       "      <td>147.842468</td>\n",
       "      <td>300</td>\n",
       "      <td>151.670258</td>\n",
       "      <td>0.261638</td>\n",
       "      <td>257.100315</td>\n",
       "    </tr>\n",
       "    <tr>\n",
       "      <th>4</th>\n",
       "      <td>4</td>\n",
       "      <td>100.793610</td>\n",
       "      <td>454.342407</td>\n",
       "      <td>1333.0</td>\n",
       "      <td>-0.206390</td>\n",
       "      <td>1.342407</td>\n",
       "      <td>-24.147675</td>\n",
       "      <td>157.061646</td>\n",
       "      <td>400</td>\n",
       "      <td>158.907113</td>\n",
       "      <td>0.347251</td>\n",
       "      <td>261.259417</td>\n",
       "    </tr>\n",
       "    <tr>\n",
       "      <th>...</th>\n",
       "      <td>...</td>\n",
       "      <td>...</td>\n",
       "      <td>...</td>\n",
       "      <td>...</td>\n",
       "      <td>...</td>\n",
       "      <td>...</td>\n",
       "      <td>...</td>\n",
       "      <td>...</td>\n",
       "      <td>...</td>\n",
       "      <td>...</td>\n",
       "      <td>...</td>\n",
       "      <td>...</td>\n",
       "    </tr>\n",
       "    <tr>\n",
       "      <th>973</th>\n",
       "      <td>973</td>\n",
       "      <td>101.821587</td>\n",
       "      <td>452.797791</td>\n",
       "      <td>234.0</td>\n",
       "      <td>0.821587</td>\n",
       "      <td>-0.202209</td>\n",
       "      <td>96.125633</td>\n",
       "      <td>-23.658508</td>\n",
       "      <td>97300</td>\n",
       "      <td>98.994254</td>\n",
       "      <td>-0.361527</td>\n",
       "      <td>13.826860</td>\n",
       "    </tr>\n",
       "    <tr>\n",
       "      <th>977</th>\n",
       "      <td>977</td>\n",
       "      <td>102.369392</td>\n",
       "      <td>455.536041</td>\n",
       "      <td>422.0</td>\n",
       "      <td>1.369392</td>\n",
       "      <td>2.536041</td>\n",
       "      <td>160.218910</td>\n",
       "      <td>296.716827</td>\n",
       "      <td>97700</td>\n",
       "      <td>337.210579</td>\n",
       "      <td>2.456609</td>\n",
       "      <td>298.367824</td>\n",
       "    </tr>\n",
       "    <tr>\n",
       "      <th>978</th>\n",
       "      <td>978</td>\n",
       "      <td>102.816978</td>\n",
       "      <td>455.005280</td>\n",
       "      <td>370.0</td>\n",
       "      <td>1.816978</td>\n",
       "      <td>2.005280</td>\n",
       "      <td>212.586479</td>\n",
       "      <td>234.617706</td>\n",
       "      <td>97800</td>\n",
       "      <td>316.604610</td>\n",
       "      <td>2.212837</td>\n",
       "      <td>312.179640</td>\n",
       "    </tr>\n",
       "    <tr>\n",
       "      <th>979</th>\n",
       "      <td>979</td>\n",
       "      <td>101.490944</td>\n",
       "      <td>452.403107</td>\n",
       "      <td>329.0</td>\n",
       "      <td>0.490944</td>\n",
       "      <td>-0.596893</td>\n",
       "      <td>57.440437</td>\n",
       "      <td>-69.836517</td>\n",
       "      <td>97900</td>\n",
       "      <td>90.424239</td>\n",
       "      <td>-0.462912</td>\n",
       "      <td>50.562751</td>\n",
       "    </tr>\n",
       "    <tr>\n",
       "      <th>998</th>\n",
       "      <td>998</td>\n",
       "      <td>101.653275</td>\n",
       "      <td>454.025665</td>\n",
       "      <td>204.0</td>\n",
       "      <td>0.653275</td>\n",
       "      <td>1.025665</td>\n",
       "      <td>76.433121</td>\n",
       "      <td>120.002838</td>\n",
       "      <td>99800</td>\n",
       "      <td>142.276854</td>\n",
       "      <td>0.150513</td>\n",
       "      <td>302.494186</td>\n",
       "    </tr>\n",
       "  </tbody>\n",
       "</table>\n",
       "<p>594 rows × 12 columns</p>\n",
       "</div>"
      ],
      "text/plain": [
       "     index  X position  Y position  Intensity  X displacement (pixels)  \\\n",
       "0        0  100.592545  454.366516     1215.0                -0.407455   \n",
       "1        1  100.746689  454.251892     1399.0                -0.253311   \n",
       "2        2  100.493515  454.344269     1483.0                -0.506485   \n",
       "3        3  100.710602  454.263611     1257.0                -0.289398   \n",
       "4        4  100.793610  454.342407     1333.0                -0.206390   \n",
       "..     ...         ...         ...        ...                      ...   \n",
       "973    973  101.821587  452.797791      234.0                 0.821587   \n",
       "977    977  102.369392  455.536041      422.0                 1.369392   \n",
       "978    978  102.816978  455.005280      370.0                 1.816978   \n",
       "979    979  101.490944  452.403107      329.0                 0.490944   \n",
       "998    998  101.653275  454.025665      204.0                 0.653275   \n",
       "\n",
       "     Y displacement (pixels)  X displacement (nm)  Y displacement (nm)  \\\n",
       "0                   1.366516           -47.672287           159.882385   \n",
       "1                   1.251892           -29.637405           146.471375   \n",
       "2                   1.344269           -59.258743           157.279449   \n",
       "3                   1.263611           -33.859589           147.842468   \n",
       "4                   1.342407           -24.147675           157.061646   \n",
       "..                       ...                  ...                  ...   \n",
       "973                -0.202209            96.125633           -23.658508   \n",
       "977                 2.536041           160.218910           296.716827   \n",
       "978                 2.005280           212.586479           234.617706   \n",
       "979                -0.596893            57.440437           -69.836517   \n",
       "998                 1.025665            76.433121           120.002838   \n",
       "\n",
       "     Time (ms)  Radius (nm)  z-score Rad       Angle  \n",
       "0            0   166.838317     0.441079  253.396947  \n",
       "1          100   149.439752     0.235251  258.561065  \n",
       "2          200   168.072674     0.455681  249.354916  \n",
       "3          300   151.670258     0.261638  257.100315  \n",
       "4          400   158.907113     0.347251  261.259417  \n",
       "..         ...          ...          ...         ...  \n",
       "973      97300    98.994254    -0.361527   13.826860  \n",
       "977      97700   337.210579     2.456609  298.367824  \n",
       "978      97800   316.604610     2.212837  312.179640  \n",
       "979      97900    90.424239    -0.462912   50.562751  \n",
       "998      99800   142.276854     0.150513  302.494186  \n",
       "\n",
       "[594 rows x 12 columns]"
      ]
     },
     "execution_count": 78,
     "metadata": {},
     "output_type": "execute_result"
    }
   ],
   "source": [
    "data"
   ]
  },
  {
   "cell_type": "code",
   "execution_count": 12,
   "id": "2aeb5574",
   "metadata": {},
   "outputs": [],
   "source": [
    "import matplotlib.pyplot as plt\n",
    "from matplotlib import ticker"
   ]
  },
  {
   "cell_type": "code",
   "execution_count": 13,
   "id": "351e73cf",
   "metadata": {},
   "outputs": [
    {
     "data": {
      "text/plain": [
       "<matplotlib.collections.PathCollection at 0x25000b706a0>"
      ]
     },
     "execution_count": 13,
     "metadata": {},
     "output_type": "execute_result"
    },
    {
     "data": {
      "image/png": "[encoded data removed]",
      "text/plain": [
       "<Figure size 432x432 with 1 Axes>"
      ]
     },
     "metadata": {
      "needs_background": "light"
     },
     "output_type": "display_data"
    }
   ],
   "source": [
    "my_x = down_sampled_df[\"X displacement (nm)\"]\n",
    "my_y = down_sampled_df[\"Y displacement (nm)\"]\n",
    "\n",
    "fig, ax = plt.subplots(1,1,figsize = (6,6))\n",
    "ax.scatter(my_x,my_y)"
   ]
  },
  {
   "cell_type": "code",
   "execution_count": 14,
   "id": "d36a3189",
   "metadata": {},
   "outputs": [
    {
     "data": {
      "text/plain": [
       "<matplotlib.collections.PathCollection at 0x25000a24220>"
      ]
     },
     "execution_count": 14,
     "metadata": {},
     "output_type": "execute_result"
    },
    {
     "data": {
      "image/png": "[encoded data removed]",
      "text/plain": [
       "<Figure size 432x432 with 1 Axes>"
      ]
     },
     "metadata": {
      "needs_background": "light"
     },
     "output_type": "display_data"
    }
   ],
   "source": [
    "# Claire's code accepts down_sampled_df as df\n",
    "df = down_sampled_df\n",
    "\n",
    "#####################Graphing data assignment block##############\n",
    "# Here the code determines the units of the graph, only for cartesian graphs\n",
    "if unit == \"pixel\":\n",
    "    x = df[\"X displacement (pixels)\"]\n",
    "    y = df[\"Y displacement (pixels)\"]\n",
    "if unit == \"nm\":\n",
    "    x = df[\"X displacement (nm)\"]\n",
    "    y = df[\"Y displacement (nm)\"]\n",
    "z = df[\"Time (ms)\"]\n",
    "\n",
    "fig1, ax1 = plt.subplots(1,1,figsize = (6,6))\n",
    "ax1.scatter(x,y)\n"
   ]
  },
  {
   "cell_type": "code",
   "execution_count": 69,
   "id": "99ea4380",
   "metadata": {},
   "outputs": [
    {
     "data": {
      "image/png": "[encoded data removed]",
      "text/plain": [
       "<Figure size 432x288 with 1 Axes>"
      ]
     },
     "metadata": {
      "needs_background": "light"
     },
     "output_type": "display_data"
    }
   ],
   "source": [
    "plt.cla()"
   ]
  },
  {
   "cell_type": "code",
   "execution_count": 15,
   "id": "308ac6b6",
   "metadata": {},
   "outputs": [
    {
     "data": {
      "image/png": "[encoded data removed]",
      "text/plain": [
       "<Figure size 600x600 with 1 Axes>"
      ]
     },
     "metadata": {
      "needs_background": "light"
     },
     "output_type": "display_data"
    }
   ],
   "source": [
    "# Claire's code accepts down_sampled_df as df\n",
    "df = down_sampled_df\n",
    "\n",
    "#####################Graphing data assignment block##############\n",
    "# Here the code determines the units of the graph, only for cartesian graphs\n",
    "if unit == \"pixel\":\n",
    "    x = df[\"X displacement (pixels)\"]\n",
    "    y = df[\"Y displacement (pixels)\"]\n",
    "if unit == \"nm\":\n",
    "    x = df[\"X displacement (nm)\"]\n",
    "    y = df[\"Y displacement (nm)\"]\n",
    "z = df[\"Time (ms)\"]\n",
    "\n",
    "# fig, ax = plt.subplots(1,1,figsize = (6,6))\n",
    "# ax.scatter(x,y)\n",
    "\n",
    " # Let the graphing beghin!!!\n",
    "fig = plt.figure(figsize=(6, 6), dpi=100)\n",
    "# this comand is here to take advantage of the \"axes\" plotting library\n",
    "ax = fig.add_subplot(111)\n",
    "\n",
    "# Set up for color bar\n",
    "#HARD CODE:\n",
    "z_axis_label = \"Frames\" \n",
    "\n",
    "# A color bar associated with time needs two things c and cmap\n",
    "#these arguments go into ax.scatter as args\n",
    "\n",
    "# c (A scalar or sequence of n numbers to be mapped to colors using cmap and norm.)\n",
    "c = df[\"index\"]\n",
    "\n",
    "#Make a ticks vector that spans the total number of frames\n",
    "# There is a bug because linspace doesn't understand what -1 is but the sequence does\n",
    "if frame_end == -1:   # negative 1\n",
    "    last_frame = df[\"index\"].iat[-1] #in the index column, give me the last valid value --> this is the max Frames\n",
    "else:\n",
    "    last_frame = frame_end\n",
    "#tix = np.linspace(frame_start,last_frame,9)\n",
    "#tix_1 = np.round(tix,0)\n",
    "frame_step=int((last_frame-frame_start)/5)\n",
    "\n",
    "tix_1=np.arange(frame_start,last_frame,frame_step)\n",
    "\n",
    "#scatter plot with a color vector\n",
    "p = ax.scatter(x, y, c=c, cmap = cmap,alpha=0.7)\n",
    "# #add a vertical side bar that defines the color\n",
    "# plt.colorbar(p, label=z_axis_label, shrink=.82, ticks = tix_1 )\n",
    "\n",
    "\n",
    "# plt.axis('square')\n",
    "# plt.xticks(rotation=45)\n",
    "# circle2 = plt.Circle((0, 0), 80, color='m', fill=False)\n",
    "\n",
    "# ax.add_patch(circle2)\n",
    "\n",
    "# # display center\n",
    "# if display_center == \"yes\":\n",
    "#     # in a centered graph, the center is actually(0,0)\n",
    "#     center1 = [0, 0]\n",
    "#     # plots center point as magenta X\n",
    "#     ax.scatter(0, 0, color='Magenta', marker=\"X\", s=150)\n",
    "#     plt.text(x=center1[0] + 0.02,\n",
    "#                 y=center1[1] + 0.02, s='CENTER')\n",
    "\n",
    "# # set graph limit conditions depending on unit specified\n",
    "# if unit == \"pixel\":\n",
    "#     ax.set_xlim(pixel_min, pixel_max)\n",
    "#     ax.set_ylim(pixel_min, pixel_max)\n",
    "#     ax.yaxis.set_major_locator(\n",
    "#         ticker.LinearLocator(axis_increment_pixel))\n",
    "#     ax.xaxis.set_major_locator(\n",
    "#         ticker.LinearLocator(axis_increment_pixel))\n",
    "# if unit == \"nm\":\n",
    "#     ax.set_xlim(nm_min, nm_max)\n",
    "#     ax.set_ylim(nm_min, nm_max)\n",
    "#     ax.yaxis.set_major_locator(\n",
    "#         ticker.LinearLocator(axis_increment_nm))\n",
    "#     ax.xaxis.set_major_locator(\n",
    "#         ticker.LinearLocator(axis_increment_nm))\n",
    "\n",
    "# # Jerry Adds a hover cursor\n",
    "# mplcursors.cursor(hover=True)\n",
    "# mplcursors.cursor(highlight=True)\n",
    "\n",
    "# # axis labels and font configurations\n",
    "# ax.set_xlabel(x_axis_label, fontweight='bold', fontsize=14)\n",
    "# ax.set_ylabel(y_axis_label, fontweight='bold', fontsize=14)\n",
    "\n",
    "# # plot title and font configurations\n",
    "\n",
    "# # take the file name and separate from the extension\n",
    "# # the first value in the tuple is the number\n",
    "# # the second is .csv \n",
    "# # the number 00086.csv is the peak --> so this code takes the peak number\n",
    "# pk = os.path.splitext(file_name)[0]\n",
    "\n",
    "# graph_type = '2D_Map'\n",
    "\n",
    "# # change title order!!! \n",
    "# list_of_strings = [graph_type, exp_tag]\n",
    "\n",
    "# #in quotes is the the delimiter between the items in the string\n",
    "# # by default it is a _ \n",
    "# my_title = \"_\".join(list_of_strings)\n",
    "\n",
    "# plt.title(my_title, fontweight='bold', fontsize=16)"
   ]
  },
  {
   "cell_type": "code",
   "execution_count": null,
   "id": "303be62d",
   "metadata": {},
   "outputs": [],
   "source": []
  },
  {
   "cell_type": "code",
   "execution_count": 16,
   "id": "b73e46fa",
   "metadata": {
    "scrolled": false
   },
   "outputs": [
    {
     "data": {
      "image/png": "[encoded data removed]",
      "text/plain": [
       "<Figure size 600x600 with 2 Axes>"
      ]
     },
     "metadata": {
      "needs_background": "light"
     },
     "output_type": "display_data"
    }
   ],
   "source": [
    "#Graph Groupings:\n",
    "# create a list of the acceptable groupings for the trajectory maps\n",
    "trajectory_map = [\"2D\", \"3D\"]\n",
    "\n",
    "# create a list of the acceptable groupings for the Angle Time grouping\n",
    "AngleTime = [\"radius_filter\", \"find_err_angle\", \"angular_continuous_filtered\",\n",
    "                \"basal3\", \"angular\", \"angular_continuous\", \"find_err_angle_CR\"]\n",
    "\n",
    "# create a list of the acceptable groupings for the Animations Grouping\n",
    "\n",
    "animations = [\"interactive\", \"animated\", \"HTML\"]\n",
    "\n",
    "\n",
    "\n",
    "\n",
    "#Trajectory map parameters:\n",
    "tajectory_map_parameters = [file_name, down_sampled_df, plot_type, display_center, exp_tag, x_axis_label, y_axis_label, z_axis_label, unit, \n",
    "pixel_min, pixel_max, axis_increment_nm, axis_increment_pixel, nm_min, nm_max, save_plot, frame_start, frame_end, time_step,cmap,exp_tag]\n",
    "\n",
    "#Angle Versus Time (AVT or avt) parameters:\n",
    "avt_parameters = [file_name, down_sampled_df, plot_type, display_center, ind_invalid_reading, rad_filter_type_upper,\n",
    "                  rad_filter_type_lower, z_up, z_down, dist_high, dist_low, graph_style, bin_size, frame_start, frame_end,\n",
    "                  display_center, exp_tag, x_axis_label, y_axis_label, z_axis_label, unit, pixel_min, pixel_max,\n",
    "                  axis_increment_nm, axis_increment_pixel, nm_min, nm_max, save_plot, data_back, cmap, exp_tag] \n",
    "\n",
    "#Animated Parameters\n",
    "animated_parameters = [file_name, down_sampled_df, plot_type, display_center, ind_invalid_reading, rad_filter_type_upper,\n",
    "                  rad_filter_type_lower, z_up, z_down, dist_high, dist_low, graph_style, bin_size, frame_start, frame_end,\n",
    "                  display_center, exp_tag, x_axis_label, y_axis_label, z_axis_label, unit, pixel_min, pixel_max,\n",
    "                  axis_increment_nm, axis_increment_pixel, nm_min, nm_max, save_plot, data_back, cmap, exp_tag, frame_speed, tail_length] \n",
    "\n",
    "#Grid Parameters\n",
    "grid_parameters = [file_name, down_sampled_df, plot_type, display_center, exp_tag, x_axis_label, y_axis_label, z_axis_label, unit, \n",
    "pixel_min, pixel_max, axis_increment_nm, axis_increment_pixel, nm_min, nm_max, save_plot, frame_start, frame_end, time_step,cmap,exp_tag, \n",
    "frames_per_plot, columns, fig_size_x, fig_size_y]\n",
    "\n",
    "\n",
    "# #DORA.graph(plot_type,*relevant_parameters)\n",
    "\n",
    "if plot_type == \"2D\" or plot_type == \"3D\":\n",
    "    DORA.graph(plot_type,*tajectory_map_parameters)\n",
    "if plot_type in animations:\n",
    "    %matplotlib notebook\n",
    "    DORA.graph(plot_type,*animated_parameters)\n",
    "if plot_type == \"grid\":\n",
    "    DORA.graph(plot_type, *grid_parameters)\n",
    "if plot_type in AngleTime:\n",
    "    DORA.graph(plot_type,*avt_parameters)"
   ]
  },
  {
   "cell_type": "markdown",
   "id": "1d1616b8",
   "metadata": {},
   "source": [
    "### Step 5: Animate Plots"
   ]
  },
  {
   "cell_type": "markdown",
   "id": "6d975726",
   "metadata": {},
   "source": [
    "Imports for the code"
   ]
  },
  {
   "cell_type": "code",
   "execution_count": null,
   "id": "37825805",
   "metadata": {},
   "outputs": [],
   "source": [
    "import pandas as pd\n",
    "import matplotlib.pyplot as plt\n",
    "import numpy as np\n",
    "from matplotlib.animation import FuncAnimation\n",
    "from IPython.display import HTML\n",
    "\n",
    "### Choose animation plot parameters ###\n",
    "cmap_name = \"plasma_r\"\n",
    "tail_length = 50\n",
    "frame_speed_ms = 20\n",
    "\n",
    "### Allocate X and Y data into dataframe called coords ###\n",
    "\n",
    "# import matplotlib\n",
    "import matplotlib.pyplot as plt\n",
    "# allows for animation to animate\n",
    "%matplotlib notebook\n",
    "\n",
    "# establish coordinate dataframe\n",
    "coords = down_sampled_df[[\"X displacement (nm)\", \"Y displacement (nm)\"]].copy()\n",
    "coords = coords.rename(columns={\"X displacement (nm)\": \"x\", \"Y displacement (nm)\": \"y\"})\n",
    "\n",
    "### Make an initial graph ###\n",
    "\n",
    "fig, ax = plt.subplots(1,1,figsize = (5,5))\n",
    "\n",
    "# plot title and font configurations\n",
    "\n",
    "# take the file name and separate from the extension\n",
    "# the first value in the tuple is the number\n",
    "# the second is .csv \n",
    "# the number 00086.csv is the peak --> so this code takes the peak number\n",
    "pk = os.path.splitext(file_name)[0]\n",
    "\n",
    "graph_type = 'Animated' \n",
    "\n",
    "# change title order!!! \n",
    "list_of_strings = [graph_type, exp_tag]\n",
    "\n",
    "#in quotes is the the delimiter between the items in the string\n",
    "# by default it is a _ \n",
    "my_title = \"_\".join(list_of_strings)\n",
    "\n",
    "plt.title(my_title, fontweight='bold', fontsize=16)\n",
    "ax.set_title(my_title, fontweight = 'bold', fontsize = 16)\n",
    "ax.set_xlabel(\"X (nm)\",fontweight = 'bold', fontsize = 12)\n",
    "ax.set_ylabel(\"Y (nm)\",fontweight = 'bold', fontsize = 12)\n",
    "ax.set_xlim([-60,60])\n",
    "ax.set_ylim([-60,60])\n",
    "ax.grid()\n",
    "sc = ax.scatter([], [])\n",
    "\n",
    "### Define animation function ###\n",
    "\n",
    "# animation function feeds a window of dataframe values into the graphing function at a time,\n",
    "# iterates over user specified range in dataframe with user specified tail length\n",
    "# color of animation is also specified here\n",
    "def animate(count):\n",
    "    sc.set_offsets(np.c_[coords.x.values[count-tail_length:count],coords.y.values[count-tail_length:count]])\n",
    "    cmap = plt.get_cmap(cmap_name)\n",
    "    norm = plt.Normalize(vmin=0, vmax=tail_length)\n",
    "    z = np.array(range(tail_length))\n",
    "    c = cmap(norm(z))\n",
    "    sc.set_color(c)\n",
    "    \n",
    "    # [UNDER DEVELOPMENT]animated colorbar still under development\n",
    "#     # Create or update colorbar\n",
    "#     if not hasattr(animate, \"cbar\"):\n",
    "#         # Create colorbar if it does not exist\n",
    "#         animate.cbar = plt.colorbar(sc, cmap = cmap_name)\n",
    "#         animate.cbar.set_label('Time (frames)')\n",
    "# #         animate.cbar.set_ticks(range(tail_length+1))\n",
    "#     else:\n",
    "#         # Update colorbar with current frame data\n",
    "#         animate.cbar.mappable.set_clim(vmin=0, vmax=tail_length)\n",
    "#         animate.cbar.draw_all()\n",
    "\n",
    "#     return sc\n",
    "    \n",
    "    #button_ax = plt.axes([.78, .87, .1, .07]) # creates an outline for a potential button\n",
    "ani = FuncAnimation(fig, animate, interval= frame_speed_ms, frames = len(coords)) #frames=len(df)\n",
    "            #ani.toggle(ax=button_ax)# potential button toggle for a potential button ;)\n",
    "plt.tight_layout()\n",
    "plt.show()\n",
    "# Display the animation as HTML\n",
    "HTML(ani.to_jshtml())"
   ]
  },
  {
   "attachments": {},
   "cell_type": "markdown",
   "id": "de521a4d",
   "metadata": {},
   "source": [
    "### Below cells are for loading test data for trouble shooting\n"
   ]
  },
  {
   "cell_type": "code",
   "execution_count": null,
   "id": "828c6c24",
   "metadata": {},
   "outputs": [],
   "source": []
  },
  {
   "cell_type": "code",
   "execution_count": null,
   "id": "05f3ed26",
   "metadata": {},
   "outputs": [],
   "source": [
    "#Load a dummy file of data so you can troubleshoot\n",
    "# this is test data within the OMMxDORA git repo\n",
    "down_sampled_df  = pd.read_csv(\"./test_set/small_csv_batch/trimmed_csv/OrbitBiotin500Hz100Lz_1k_00001_trimmed.csv\")"
   ]
  }
 ],
 "metadata": {
  "kernelspec": {
   "display_name": "origami_clone_jw",
   "language": "python",
   "name": "python3"
  },
  "language_info": {
   "codemirror_mode": {
    "name": "ipython",
    "version": 3
   },
   "file_extension": ".py",
   "mimetype": "text/x-python",
   "name": "python",
   "nbconvert_exporter": "python",
   "pygments_lexer": "ipython3",
   "version": "3.9.7"
  },
  "vscode": {
   "interpreter": {
    "hash": "66bfc363f8f306659ae3e266bceac94d22f72185114dbd9c913d56b1b78e8aa9"
   }
  }
 },
 "nbformat": 4,
 "nbformat_minor": 5
}
