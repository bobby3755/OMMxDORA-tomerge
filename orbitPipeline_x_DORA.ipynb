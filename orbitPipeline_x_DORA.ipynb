{
 "cells": [
  {
   "cell_type": "markdown",
   "id": "e3627ba8",
   "metadata": {},
   "source": [
    "# RUN THE BOTTOM CHUNK OF CODE AS SOON AS YOU OPEN THIS "
   ]
  },
  {
   "cell_type": "markdown",
   "id": "6f9e3f71",
   "metadata": {},
   "source": [
    "Scroll to the bottom and run the two large cells that say HEY RUN THIS and HEY RUN THIS 2!!!\n",
    "\n",
    "Sorry this is painful it has to do with the fact that juypter notebooks can't call things like plotting in line (matplotlib) or generating windows(cv2) from a .py  they need to be defined in the notebook as as far as I know. \n"
   ]
  },
  {
   "cell_type": "markdown",
   "id": "150688fe",
   "metadata": {},
   "source": [
    "## common troubleshooting solutions:\n",
    "\n",
    "1. make sure your file paths use these slashes / and end with a / \n",
    "2. make sure you run the two blocks of code at the bottom\n",
    "3. are you in the righ file paths?\n",
    "4. is your info file the same name as your tif file?\n",
    "\n",
    "### NOTE: This is a 'cleaned' copy of the OMM_Analysis from the lab's github I made from running data from ONI using TIFF files. If you have something  else, this is not for you.   \n",
    "  \n",
    "    "
   ]
  },
  {
   "cell_type": "code",
   "execution_count": 65,
   "id": "f6e02234",
   "metadata": {
    "scrolled": false
   },
   "outputs": [],
   "source": [
    "import sys\n",
    "\n",
    "sys.path.append('D:/Amanda/OMM_Analysis/OMM_Analysis/sma/') #if you are not amanda, change to your sma file path (found in zipfile downloaded from github)\n",
    "\n",
    "from ffpdax import ffp_dax\n",
    "from ffptif import ffp_tif\n",
    "import DORA\n",
    "\n",
    "analysisPath='D:/Amanda/OMM_Analysis/OMM_Analysis/DATA/20220417_Proflavine_BaseD2ORBIT_Exp9/IB_10hz_20laser_5uM_on/pos_0/' \n",
    "\n",
    "xmlName='ORBIT_Analysis_Settings'\n",
    "\n",
    "analysisName='Proflavine_BaseD2ORBIT_Exp9_IB_10hz_20laser_5uM_on_posXY0_channels_t0_posZ0'\n",
    "\n",
    "xmlFilename=analysisPath+xmlName\n",
    "filename=analysisPath+analysisName\n",
    "ffp_tif(filename,xmlFilename)"
   ]
  },
  {
   "cell_type": "code",
   "execution_count": 3,
   "id": "77b7760b",
   "metadata": {},
   "outputs": [],
   "source": [
    "import os\n",
    "newpath = filename+'trcsv'\n",
    "if not os.path.exists(newpath):\n",
    "    os.makedirs(newpath)    #makes a new folder in with same name as filename but ending in trcsv\n",
    "    \n",
    "from tr2csv import tr_2csv\n",
    "tr_2csv(filename)           #Generates CSV file from .tr files      "
   ]
  },
  {
   "cell_type": "markdown",
   "id": "4be8d4a4",
   "metadata": {},
   "source": [
    "## 2D histogram stuff\n",
    "\n"
   ]
  },
  {
   "cell_type": "code",
   "execution_count": 4,
   "id": "5fb6b420",
   "metadata": {
    "scrolled": true
   },
   "outputs": [
    {
     "name": "stdout",
     "output_type": "stream",
     "text": [
      "Number of peaks\n",
      "30\n"
     ]
    },
    {
     "data": {
      "text/plain": [
       "30"
      ]
     },
     "execution_count": 4,
     "metadata": {},
     "output_type": "execute_result"
    }
   ],
   "source": [
    "import numpy as np\n",
    "\n",
    "histInfoName=filename+'trdir/histpar' # opens the infromation file\n",
    "histInfoFile = open(histInfoName+'.info','rb')\n",
    "histInfo=np.fromfile(histInfoFile,dtype='int32')\n",
    "histInfoFile.close()\n",
    "print(\"Number of peaks\")\n",
    "print(histInfo[3])\n",
    "histInfo[3]"
   ]
  },
  {
   "cell_type": "code",
   "execution_count": 13,
   "id": "bc6b5fb5",
   "metadata": {
    "scrolled": true
   },
   "outputs": [
    {
     "name": "stdout",
     "output_type": "stream",
     "text": [
      "Displaying\n",
      "30\n"
     ]
    }
   ],
   "source": [
    "#display settings for tracjectories\n",
    "histPerCol=5\n",
    "histPerRow=6\n",
    "\n",
    "print(\"Displaying\")\n",
    "print(histPerRow*histPerCol)"
   ]
  },
  {
   "cell_type": "code",
   "execution_count": 14,
   "id": "b4a3f5b3",
   "metadata": {
    "scrolled": true
   },
   "outputs": [
    {
     "name": "stdout",
     "output_type": "stream",
     "text": [
      "[  29    0 1000]\n",
      "[  29    0 1000]\n",
      "[  27    0 1000]\n",
      "[  27    0 1000]\n",
      "[  25    0 1000]\n",
      "[  25    0 1000]\n",
      "[  20    0 1000]\n",
      "[  20    0 1000]\n",
      "[  21    0 1000]\n",
      "[  21    0 1000]\n",
      "[  22    0 1000]\n",
      "[  22    0 1000]\n",
      "[  23    0 1000]\n",
      "[  23    0 1000]\n",
      "[  24    0 1000]\n",
      "[  24    0 1000]\n",
      "[  16    0 1000]\n",
      "[  16    0 1000]\n",
      "[  17    0 1000]\n",
      "[  17    0 1000]\n",
      "[   9    0 1000]\n",
      "[   9    0 1000]\n",
      "[   8    0 1000]\n",
      "[   8    0 1000]\n",
      "[   6    0 1000]\n",
      "[   6    0 1000]\n",
      "[   0    0 1000]\n",
      "[   0    0 1000]\n",
      "[   3    0 1000]\n",
      "[   3    0 1000]\n",
      "pk, t1 ,t2\n",
      "[[  29    0 1000]\n",
      " [  29    0 1000]\n",
      " [  27    0 1000]\n",
      " [  27    0 1000]\n",
      " [  25    0 1000]\n",
      " [  25    0 1000]\n",
      " [  20    0 1000]\n",
      " [  20    0 1000]\n",
      " [  21    0 1000]\n",
      " [  21    0 1000]\n",
      " [  22    0 1000]\n",
      " [  22    0 1000]\n",
      " [  23    0 1000]\n",
      " [  23    0 1000]\n",
      " [  24    0 1000]\n",
      " [  24    0 1000]\n",
      " [  16    0 1000]\n",
      " [  16    0 1000]\n",
      " [  17    0 1000]\n",
      " [  17    0 1000]\n",
      " [   9    0 1000]\n",
      " [   9    0 1000]\n",
      " [   8    0 1000]\n",
      " [   8    0 1000]\n",
      " [   6    0 1000]\n",
      " [   6    0 1000]\n",
      " [   0    0 1000]\n",
      " [   0    0 1000]\n",
      " [   3    0 1000]\n",
      " [   3    0 1000]]\n"
     ]
    }
   ],
   "source": [
    "#when you run this, you should get a pop up window. check your windows bar at the bottom of the deskstop  \n",
    "import numpy as np\n",
    "from PIL import Image\n",
    "import argparse\n",
    "import cv2\n",
    "\n",
    "\n",
    "[refptnp,refsc,refcol,sum_of_rows, out]=disp_hist(filename,histPerCol,histPerRow) #change for dax\n",
    "print('pk, t1 ,t2')\n",
    "print(out)\n"
   ]
  },
  {
   "cell_type": "code",
   "execution_count": 119,
   "id": "8a388159",
   "metadata": {},
   "outputs": [
    {
     "name": "stdout",
     "output_type": "stream",
     "text": [
      "Peak: 00016\n",
      "Start: 0\n",
      "End: 1000\n",
      "D:/Amanda/OMM_Analysis/OMM_Analysis/DATA/20220417_Proflavine_BaseD2ORBIT_Exp9/IB_10hz_20laser_5uM_on/pos_0/Proflavine_BaseD2ORBIT_Exp9_IB_10hz_20laser_5uM_on_posXY0_channels_t0_posZ0trcsv/00016.csv\n"
     ]
    }
   ],
   "source": [
    "#Remeber python indexs from 0 so if you want your first selection to be the peak you analyze pick 0\n",
    "#also the peaks go in paired sets, the first two selections will be \"peak 0\"\n",
    "\n",
    "chosenpk=8\n",
    "\n",
    "pk=str(out[chosenpk*2,0]).zfill(5)\n",
    "frStart=out[chosenpk*2,1]\n",
    "frEnd=out[((chosenpk*2)+1),2] \n",
    "print(\"Peak: \"+pk)\n",
    "print(\"Start: \"+str(frStart))\n",
    "print(\"End: \"+str(frEnd))\n",
    "\n",
    "\n",
    "csvpath=filename+'trcsv/'\n",
    "csvnum=csvpath+pk+'.csv'\n",
    "print(csvnum)"
   ]
  },
  {
   "cell_type": "markdown",
   "id": "514e28d6",
   "metadata": {},
   "source": [
    "#DORA Graphing"
   ]
  },
  {
   "cell_type": "code",
   "execution_count": 124,
   "id": "089fdd81",
   "metadata": {},
   "outputs": [],
   "source": [
    "#universal parameters\n",
    "exp_tag = \"Exp 9 - 5uM on - Peak \" + pk # a tag that caries the name of the experiment\n",
    "file_name = csvnum  \n",
    "pixel_size = 117  # in nanometers\n",
    "time_step = 100  # miliseconds per frame in trajectory movie\n",
    "frame_start = 0  # enter 0 to start from beginning of dataset\n",
    "frame_end = 100  # enter -1 to end at the last value of the data set\n",
    "cmap = \"spring_r\" # enter a color map string from this https://matplotlib.org/2.0.2/examples/color/colormaps_reference.html\n",
    "first_zero_end = 'no'  # yes to cut off all values after first 0,0 = x,y\n",
    "\n",
    "#downsampling parameters\n",
    "bin_size = 20  # bin size for downsample/filter processing\n",
    "processing = \"none\"  # enter downsample, moving average, or none\n",
    "\n",
    "#Plot Parameters\n",
    "\n",
    "#Which Graph?\n",
    "#plot_type = \"find_sus_angle\"\n",
    "plot_type = \"2D\"\n",
    "#Graphing options:\n",
    "    #Trajectory Maps:\n",
    "        #2D: Colorful 2D visulization of the rotor from above\n",
    "        #3D: 2D plot but time is an axis\n",
    "    \n",
    "    # Grid plot\n",
    "        #grid: a grid of little snippets of the data\n",
    "        \n",
    "    #Angular Analysis\n",
    "        #By Jerry\n",
    "                #radius_filter: Demarcate the sus data points that will be eliminated from calculations\n",
    "                #find_sus_angle: Indicate sus angles within angular_continuous by Jerry\n",
    "                #angular_continuous_filtered: Angular Continuous recalculated with sus points filtered. Sus skips indicated.\n",
    "                #basal3: Graphs tailored for the basal graph analysis 3/14/2022\n",
    "                    #Angular Continuous with a downsampled curve as well. still has bugs with error labelling\n",
    "\n",
    "\n",
    "\n",
    "    ############################### these have not been converted yet:\n",
    "        #By Claire:\n",
    "                #angular: angle vs time, but it's not cummulative and resets at 360 to 0 (Claire)\n",
    "                #angular_continuous: Claire's Calculation of a cummulative angle\n",
    "                #find_sus_angle_CR: Indicate sus angles within angular_continuous by Claire's calculations\n",
    "\n",
    "    #Animation\n",
    "        #interactive: Interactive graph\n",
    "        #animated: animated trajectory in notebook\n",
    "        #HTML: Animated trajectory in a new window. May run better\n",
    "\n",
    "##### Trajectory Maps Parameters:\n",
    "\n",
    "# \"yes\" enables center display of center coordinates if 2D or Find sus angle\n",
    "display_center = \"no\"\n",
    "\n",
    "#Labels\n",
    "x_axis_label = \"x (nm)\"\n",
    "y_axis_label = \"y (nm)\"\n",
    "z_axis_label = \"Time (ms)\"  \n",
    "unit = \"nm\"  # enter pixel or nm\n",
    "\n",
    "#Formatting parameters\n",
    "pixel_min = -0.75  # setting min/max axis range (pixel)\n",
    "pixel_max = 0.75\n",
    "\n",
    "# change axis increments for nicely fitting tick marks (pixel)\n",
    "axis_increment_pixel = 7\n",
    "# change axis increments for nicely fitting tick marks (nm)\n",
    "axis_increment_nm = 7\n",
    "nm_min = -150  # setting min/max axis range (nm)\n",
    "nm_max = 150\n",
    "#Do you want to save your plot?\n",
    "save_plot = 'no'\n",
    "\n",
    "#########Angle Versus Time (AVT or avt) Graphs\n",
    "\n",
    "#       Formatting parameters for 'radius filter plot'\n",
    "rad_filter_type_lower = 'nm'  # enter 'zscore' or 'nm' for choice\n",
    "rad_filter_type_upper = 'zscore'  # enter 'zscore' or 'nm' for choice\n",
    "z_up = 3  # enter an upper bound for z score.\n",
    "z_down = -3  # enter a lower bound for z score\n",
    "dist_low = 30  # lower bound for ABS of Radius filter\n",
    "dist_high = 70  # upper bound for ABS of Radius filter\n",
    "\n",
    "#       Formatting parameters for 'angular_continuous_filtered' plot\n",
    "# enter 'line' or 'scatter' for a line graph or a scatter plot. Line plot makes up points when hovered\n",
    "graph_style = 'line'\n",
    "\n",
    "\n",
    "#Formatting parameters 'grid' plot\n",
    "frames_per_plot = 195  # refers to grid plot\n",
    "columns = 7  # columns of plots (grid plot)\n",
    "fig_size_x = 40 # adjust display parameters for graphs to fit nicely, mostly used for 'grid' plot\n",
    "fig_size_y  = 40 # adjust display parameters for graphs to fit nicely, mostly used for 'grid' plot\n",
    "\n",
    "#Formatting parameters 'animation' plot\n",
    "frame_speed = 20  # for animation only (ms)\n",
    "tail_length = 50  # for animation only\n",
    "\n",
    "#DORA.table parameters: \n",
    "save_table = 'no' #saves filtered table if \"yes\"\n",
    "\n",
    "#DORA.collect_variable parameter package\n",
    "###DataTable = avt_good cannot have bc it has not been defined yet\n",
    "col = \"Delta Angle\"\n",
    "sample_conditions= analysisName\n",
    "name_saving_folder = \"Data Tables\""
   ]
  },
  {
   "cell_type": "code",
   "execution_count": 125,
   "id": "81a33327",
   "metadata": {},
   "outputs": [
    {
     "data": {
      "image/png": "[encoded data removed]",
      "text/plain": [
       "<Figure size 600x600 with 2 Axes>"
      ]
     },
     "metadata": {
      "needs_background": "light"
     },
     "output_type": "display_data"
    },
    {
     "name": "stdout",
     "output_type": "stream",
     "text": [
      "The center is (231.19511413574216, 299.96267762476083)\n",
      "If the center is satisfactory, change the find_center_coordinates parameter to no\n",
      "If the center is unsatisfactory, adjust the frame_start and frame_end parameters and try again\n"
     ]
    }
   ],
   "source": [
    "initial_parameters = [file_name,time_step, frame_start, frame_end, cmap, exp_tag,first_zero_end]\n",
    "center, data, ind_invalid_reading, data_back = DORA.find_center(*initial_parameters)"
   ]
  },
  {
   "cell_type": "code",
   "execution_count": 126,
   "id": "15a5d2ce",
   "metadata": {},
   "outputs": [],
   "source": [
    "downsample_parameters = [bin_size, processing, data, center, time_step, pixel_size, frame_start, frame_end]\n",
    "down_sampled_df = DORA.downsample(*downsample_parameters)"
   ]
  },
  {
   "cell_type": "code",
   "execution_count": 128,
   "id": "b73e46fa",
   "metadata": {
    "scrolled": false
   },
   "outputs": [
    {
     "ename": "ValueError",
     "evalue": "too many values to unpack (expected 21)",
     "output_type": "error",
     "traceback": [
      "\u001b[1;31m---------------------------------------------------------------------------\u001b[0m",
      "\u001b[1;31mValueError\u001b[0m                                Traceback (most recent call last)",
      "\u001b[1;32m~\\AppData\\Local\\Temp\\ipykernel_45212\\3893887557.py\u001b[0m in \u001b[0;36m<module>\u001b[1;34m\u001b[0m\n\u001b[0;32m      9\u001b[0m                   axis_increment_nm, axis_increment_pixel, nm_min, nm_max, save_plot, data_back, cmap,exp_tag] \n\u001b[0;32m     10\u001b[0m \u001b[1;33m\u001b[0m\u001b[0m\n\u001b[1;32m---> 11\u001b[1;33m \u001b[0mDORA\u001b[0m\u001b[1;33m.\u001b[0m\u001b[0mgraph\u001b[0m\u001b[1;33m(\u001b[0m\u001b[0mplot_type\u001b[0m\u001b[1;33m,\u001b[0m\u001b[1;33m*\u001b[0m\u001b[0mavt_parameters\u001b[0m\u001b[1;33m)\u001b[0m\u001b[1;33m\u001b[0m\u001b[1;33m\u001b[0m\u001b[0m\n\u001b[0m\u001b[0;32m     12\u001b[0m \u001b[0mDORA\u001b[0m\u001b[1;33m.\u001b[0m\u001b[0mgraph\u001b[0m\u001b[1;33m(\u001b[0m\u001b[0mplot_type\u001b[0m\u001b[1;33m,\u001b[0m\u001b[1;33m*\u001b[0m\u001b[0mtajectory_map_parameters\u001b[0m\u001b[1;33m)\u001b[0m\u001b[1;33m\u001b[0m\u001b[1;33m\u001b[0m\u001b[0m\n",
      "\u001b[1;32mD:\\Amanda/OMM_Analysis/OMM_Analysis/sma\\DORA.py\u001b[0m in \u001b[0;36mgraph\u001b[1;34m(plot_type, *graph_parameters)\u001b[0m\n\u001b[0;32m    508\u001b[0m \u001b[1;33m\u001b[0m\u001b[0m\n\u001b[0;32m    509\u001b[0m         \u001b[1;31m# Accept my variables from graphing parameters\u001b[0m\u001b[1;33m\u001b[0m\u001b[1;33m\u001b[0m\u001b[0m\n\u001b[1;32m--> 510\u001b[1;33m         [file_name, down_sampled_df, plot_type, display_center, title, x_axis_label, y_axis_label, z_axis_label, unit, pixel_min, pixel_max,\n\u001b[0m\u001b[0;32m    511\u001b[0m             axis_increment_nm, axis_increment_pixel, nm_min, nm_max, save_plot, frame_start, frame_end, time_step, cmap, exp_tag] = graph_parameters\n\u001b[0;32m    512\u001b[0m \u001b[1;33m\u001b[0m\u001b[0m\n",
      "\u001b[1;31mValueError\u001b[0m: too many values to unpack (expected 21)"
     ]
    }
   ],
   "source": [
    "#Trajectory map parameters:\n",
    "tajectory_map_parameters = [file_name, down_sampled_df, plot_type, display_center, exp_tag, x_axis_label, y_axis_label, z_axis_label, unit, \n",
    "pixel_min, pixel_max, axis_increment_nm, axis_increment_pixel, nm_min, nm_max, save_plot, frame_start, frame_end, time_step,cmap,exp_tag]\n",
    "\n",
    "#Angle Versus Time (AVT or avt) parameters:\n",
    "avt_parameters = [file_name, down_sampled_df, plot_type, display_center, ind_invalid_reading, rad_filter_type_upper,\n",
    "                  rad_filter_type_lower, z_up, z_down, dist_high, dist_low, graph_style, bin_size, frame_start, frame_end,\n",
    "                  display_center, exp_tag, x_axis_label, y_axis_label, z_axis_label, unit, pixel_min, pixel_max,\n",
    "                  axis_increment_nm, axis_increment_pixel, nm_min, nm_max, save_plot, data_back, cmap,exp_tag] \n",
    "\n",
    "#DORA.graph(plot_type,*avt_parameters)\n",
    "DORA.graph(plot_type,*tajectory_map_parameters)\n"
   ]
  },
  {
   "cell_type": "markdown",
   "id": "6b1d7752",
   "metadata": {},
   "source": [
    "# HEY! RUN THIS: "
   ]
  },
  {
   "cell_type": "code",
   "execution_count": 7,
   "id": "6ea421c0",
   "metadata": {},
   "outputs": [],
   "source": [
    "def disp_hist(file,perCol,perRow):\n",
    "\n",
    "    \n",
    "    #Get file paths\n",
    "    sets=file+'trdir/histsets'\n",
    "    filename=file+'trdir/hist2d'\n",
    "    infor=file+'trdir/histpar'\n",
    "    \n",
    "    #open files\n",
    "    fileptr = open(filename+'.stack','rb')\n",
    "    fileptrSets = open(sets+'.list','rb')\n",
    "    fileptrInfo = open(infor+'.info','rb')\n",
    "    \n",
    "\n",
    "    #Get Infor from files \n",
    "    frame = np.fromfile(fileptr,dtype='int32')\n",
    "    histlist=np.fromfile(fileptrSets,dtype='int32')\n",
    "    histinfo=np.fromfile(fileptrInfo,dtype='int32')\n",
    "    histsearch=np.reshape(histlist,[len(histlist)//3,3])\n",
    "    #print(frame.shape)\n",
    "    #print(histlist.shape)\n",
    "    #print(histinfo.shape)\n",
    "\n",
    "    histnum=histinfo[3]  #number of histograms\n",
    "    histrow=int(histnum//perCol) #number of histograms / number of histograms per col to give number per row \n",
    "    \n",
    "    res=histinfo[0]   #get the 'res' as defined in 2D hist this is the size of the histogram 30x30\n",
    "\n",
    "\n",
    "    \n",
    "    \n",
    "    #Openining the Histogram and making an Image. \n",
    "    fileptr.seek(0) #Get the first frame \n",
    "\n",
    "    result = Image.new('F', (histrow*res,perCol*res)) #make a new image of correct size \n",
    "    for j in range (0,histrow):    \n",
    "        for i in range (0,perCol):\n",
    "        #print((i+(j*histpercol)))\n",
    "            fileptr.seek((i+(j*perCol))*res*res*4)  #open frame poisiton x resolution *32/8 (8 bit vs 32 bit)\n",
    "            frame2 = np.fromfile(fileptr,dtype='int32',count=res*res)\n",
    "            frame2 = np.reshape(frame2,[res,res])\n",
    "            frame2 = np.transpose(frame2)\n",
    "            frame2 = np.rot90(np.rot90(np.rot90(frame2)))\n",
    "            frame2=frame2\n",
    "            im2 =Image.fromarray(frame2)\n",
    "        #print(i)\n",
    "            result.paste(im2, box=((j*res),(i*res))) #load each histogram into the total histogram image. \n",
    "       \n",
    "    \n",
    "   \n",
    "\n",
    "    img = np.array(result) \n",
    "\n",
    "    #result.show(result)\n",
    "    avgnonzero = img[np.nonzero(img)].mean() #this might be bad practice \n",
    "    img=np.array((img/avgnonzero)*255).astype('uint8')#but here i am sclaing my image based on avg non zero to gray scale \n",
    "                                                        # This is only for display and it works fairly well but may be something that we want to return to. \n",
    "\n",
    "\n",
    "\n",
    "    \n",
    "\n",
    "    grayImage = cv2.cvtColor(img, cv2.COLOR_GRAY2BGR)  #Converts image to gray scale\n",
    "    heatmap = cv2.applyColorMap(grayImage, cv2.COLORMAP_MAGMA)  #converst grey scale to color map magma \n",
    "    \n",
    "    refPt = []\n",
    "    \n",
    "    def click_event(event, x, y, flags, param):\n",
    "        if event == cv2.EVENT_LBUTTONDOWN:\n",
    "            #print(x+(k*histperrow*30),\",\",y)\n",
    "            imgpkdisp=[((x+(k*perRow*30))//30*perCol),y//30] #Converting X and y of click to position on histogram as a grid. K s frame number. Scale by 30 because of size of histogram. \n",
    "            imgpkdisp=sum(imgpkdisp)  # This is the exact histogram number. based off frame, and which position\n",
    "            imgpkdisp=histsearch[imgpkdisp] # now we use that info to find the hisgram in the  info file \n",
    "            imgpkdisp=str(imgpkdisp)\n",
    "            print(imgpkdisp)\n",
    "            refPt.append([x+(k*perRow*30),y]) #This stores the histograms selected. \n",
    "            font = cv2.FONT_HERSHEY_SIMPLEX\n",
    "            strXY = str(x+(k*perRow*30) )+\", \"+str(y)\n",
    "            cv2.putText(imgcrop, imgpkdisp, (x,y), font, 0.5, (255,0,0), 2) #Draw coordinates on image. \n",
    "            cv2.imshow('2D Histogram [PK# t1 t2]',imgcrop)\n",
    "    \n",
    "    savePt=[]\n",
    "    testvar=0\n",
    "    t=img.size//((perCol*30)*perRow*30)\n",
    "    \n",
    "    k=0\n",
    "    \n",
    "    #Load in frames for searching\n",
    "    while k < t:\n",
    "        imgcrop=heatmap[0:(perCol*30),k*perRow*30:(k+1)*30*perRow]  #Display each frame as a heat map. \n",
    "        cv2.imshow('2D Histogram [PK# t1 t2]',imgcrop )\n",
    "        cv2.namedWindow('2D Histogram [PK# t1 t2]')\n",
    "        cv2.setMouseCallback('2D Histogram [PK# t1 t2]', click_event)\n",
    "        key=cv2.waitKey(0)\n",
    "        if key == 27: #if escape key break the loop\n",
    "            break\n",
    "        elif key==98:  # if b go backwards\n",
    "            if k == 0:\n",
    "                k=k\n",
    "            else:\n",
    "                k=k-1  # any other key go forward\n",
    "        else:\n",
    "            k=k+1\n",
    "        \n",
    "   # for k in range (0,t):\n",
    "       # print(k)\n",
    "       # imgcrop=heatmap[0:(perCol*30),k*perRow*30:(k+1)*30*perRow]\n",
    "       # cv2.imshow('heatmap',imgcrop )\n",
    "       # cv2.namedWindow('heatmap')\n",
    "       # cv2.setMouseCallback(\"heatmap\", click_event)\n",
    "       # key=cv2.waitKey(0)\n",
    "        #if key == 27:\n",
    "        #    break\n",
    "        #elif key == 98:\n",
    "            #print(k)\n",
    "        \n",
    "        \n",
    "            \n",
    "    cv2.destroyAllWindows()\n",
    "    refptnp=np.array(refPt)  #stored histogram positions\n",
    "    #print(refptnp)\n",
    "    refsc=refptnp//30     # scale to histogram number per frame\n",
    "    refcol=refsc*[perCol,1]  # Scale to be histogram number on right frame \n",
    "    sum_of_rows = np.sum(refcol, axis = 1)  #sum to get historgram number\n",
    "    out=histsearch[sum_of_rows] #search  histogram info to get pk# and T1 T2. \n",
    "    return refptnp , refsc , refcol ,sum_of_rows , out   #Return Relevant vars. "
   ]
  },
  {
   "cell_type": "markdown",
   "id": "155a56a8",
   "metadata": {},
   "source": []
  },
  {
   "cell_type": "code",
   "execution_count": null,
   "id": "e1ee264d",
   "metadata": {},
   "outputs": [],
   "source": []
  },
  {
   "cell_type": "code",
   "execution_count": null,
   "id": "646bd52b",
   "metadata": {},
   "outputs": [],
   "source": []
  },
  {
   "cell_type": "code",
   "execution_count": null,
   "id": "fe147c8c",
   "metadata": {},
   "outputs": [],
   "source": []
  }
 ],
 "metadata": {
  "kernelspec": {
   "display_name": "origami",
   "language": "python",
   "name": "origami"
  },
  "language_info": {
   "codemirror_mode": {
    "name": "ipython",
    "version": 3
   },
   "file_extension": ".py",
   "mimetype": "text/x-python",
   "name": "python",
   "nbconvert_exporter": "python",
   "pygments_lexer": "ipython3",
   "version": "3.9.7"
  }
 },
 "nbformat": 4,
 "nbformat_minor": 5
}
